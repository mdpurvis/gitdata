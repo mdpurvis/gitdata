{
 "cells": [
  {
   "cell_type": "code",
   "execution_count": 1,
   "metadata": {},
   "outputs": [],
   "source": [
    "import pandas as pd\n",
    "import os\n",
    "from datetime import datetime as dt\n",
    "\n",
    "\n",
    "\n",
    "\n",
    "file_loc = 'C:\\\\Users\\\\mdpur\\\\OneDrive\\\\Documents\\\\MINT\\\\'\n",
    "\n",
    "file_loc1 = 'C:\\\\Users\\\\mdpur\\\\OneDrive\\\\Documents\\\\MINT\\\\Budget Template.xlsx'\n",
    "\n",
    "\n",
    "def combine_csv_files(file_loc):\n",
    "    \n",
    "    listofnames = [f for f in os.listdir(file_loc) if f.endswith('.csv')]\n",
    "    \n",
    "    for ea in listofnames:\n",
    "        try:\n",
    "            df = df.append(pd.read_csv(file_loc + ea))\n",
    "        except:\n",
    "            df = pd.read_csv(file_loc + ea)\n",
    "    \n",
    "    return df\n",
    "\n",
    "fin = combine_csv_files(file_loc+\"Transactional Data\\\\\")"
   ]
  },
  {
   "cell_type": "code",
   "execution_count": 2,
   "metadata": {
    "scrolled": true
   },
   "outputs": [],
   "source": [
    "fin.columns = fin.columns.str.replace(r\"[ ]\",\"_\")\n",
    "fin['Date'] = pd.to_datetime(fin['Date'])\n",
    "fin['Month'] = fin['Date']"
   ]
  },
  {
   "cell_type": "code",
   "execution_count": 3,
   "metadata": {},
   "outputs": [],
   "source": [
    "fin = fin.groupby(['Date', 'Month', 'Category', 'Description', \n",
    "                   'Account_Name','Transaction_Type'], \n",
    "                  as_index=False).agg({'Amount':'sum', \n",
    "                                        'Original_Description':\"count\"})\n",
    "\n",
    "fin.rename({'Original_Description':'Count'}, axis=1, inplace=True)\n",
    "fin.rename({'Category':'Sub-Category'}, axis=1, inplace=True)"
   ]
  },
  {
   "cell_type": "code",
   "execution_count": 4,
   "metadata": {},
   "outputs": [],
   "source": [
    "fin = fin[(fin['Date'] > '2017-06-30')]"
   ]
  },
  {
   "cell_type": "code",
   "execution_count": 5,
   "metadata": {
    "scrolled": true
   },
   "outputs": [],
   "source": [
    "fin = fin[~fin['Sub-Category'].str.contains('Transfer', na=False)]\n",
    "fin = fin[~fin['Sub-Category'].str.contains('Wedding Reimbursemen', na=False)]\n",
    "fin = fin[~fin['Sub-Category'].str.contains('Wedding expenses', na=False)]"
   ]
  },
  {
   "cell_type": "code",
   "execution_count": 6,
   "metadata": {},
   "outputs": [
    {
     "name": "stderr",
     "output_type": "stream",
     "text": [
      "C:\\Users\\mdpur\\Anaconda3\\lib\\site-packages\\pandas\\util\\_decorators.py:188: FutureWarning: The `sheetname` keyword is deprecated, use `sheet_name` instead\n",
      "  return func(*args, **kwargs)\n"
     ]
    }
   ],
   "source": [
    "exp = pd.read_excel(file_loc1, sheetname='Exp Ref')\n",
    "fin = fin.set_index('Sub-Category')\n",
    "exp.set_index('Sub-Category', inplace=True)\n",
    "exp.columns = exp.columns.str.replace(r\"[ ]\",\"_\")"
   ]
  },
  {
   "cell_type": "code",
   "execution_count": 7,
   "metadata": {},
   "outputs": [],
   "source": [
    "fin = fin.join(exp, how=\"left\").fillna(\"Research\")\n",
    "fin.reset_index(inplace=True)"
   ]
  },
  {
   "cell_type": "code",
   "execution_count": 8,
   "metadata": {
    "scrolled": true
   },
   "outputs": [
    {
     "name": "stdout",
     "output_type": "stream",
     "text": [
      "Press Enter to Continue:\n"
     ]
    },
    {
     "data": {
      "text/plain": [
       "''"
      ]
     },
     "execution_count": 8,
     "metadata": {},
     "output_type": "execute_result"
    }
   ],
   "source": [
    "fin2 = fin.loc[fin['Expense_Type_Factor']=='Research']\n",
    "print(fin2[['Date', 'Sub-Category', 'Description', 'Category', 'Amount']].head(25))\n",
    "\n",
    "\n",
    "input(\"Press Enter to Continue:\")"
   ]
  },
  {
   "cell_type": "code",
   "execution_count": 9,
   "metadata": {},
   "outputs": [
    {
     "ename": "ValueError",
     "evalue": "Unable to parse string \"Research\" at position 80",
     "output_type": "error",
     "traceback": [
      "\u001b[1;31m---------------------------------------------------------------------------\u001b[0m",
      "\u001b[1;31mValueError\u001b[0m                                Traceback (most recent call last)",
      "\u001b[1;32mpandas/_libs/lib.pyx\u001b[0m in \u001b[0;36mpandas._libs.lib.maybe_convert_numeric\u001b[1;34m()\u001b[0m\n",
      "\u001b[1;31mValueError\u001b[0m: Unable to parse string \"Research\"",
      "\nDuring handling of the above exception, another exception occurred:\n",
      "\u001b[1;31mValueError\u001b[0m                                Traceback (most recent call last)",
      "\u001b[1;32m<ipython-input-9-ab537f3ee037>\u001b[0m in \u001b[0;36m<module>\u001b[1;34m\u001b[0m\n\u001b[0;32m     11\u001b[0m \u001b[0mfin\u001b[0m\u001b[1;33m[\u001b[0m\u001b[1;34m'Forecast_Amount'\u001b[0m\u001b[1;33m]\u001b[0m \u001b[1;33m=\u001b[0m \u001b[0mpd\u001b[0m\u001b[1;33m.\u001b[0m\u001b[0mto_numeric\u001b[0m\u001b[1;33m(\u001b[0m\u001b[0mfin\u001b[0m\u001b[1;33m[\u001b[0m\u001b[1;34m'Forecast_Amount'\u001b[0m\u001b[1;33m]\u001b[0m\u001b[1;33m.\u001b[0m\u001b[0mastype\u001b[0m\u001b[1;33m(\u001b[0m\u001b[0mstr\u001b[0m\u001b[1;33m)\u001b[0m\u001b[1;33m.\u001b[0m\u001b[0mreplace\u001b[0m\u001b[1;33m(\u001b[0m\u001b[1;34m'[^0-9]]'\u001b[0m\u001b[1;33m,\u001b[0m \u001b[1;34m\"\"\u001b[0m\u001b[1;33m)\u001b[0m\u001b[1;33m.\u001b[0m\u001b[0mcopy\u001b[0m\u001b[1;33m(\u001b[0m\u001b[1;33m)\u001b[0m\u001b[1;33m)\u001b[0m\u001b[1;33m\u001b[0m\u001b[1;33m\u001b[0m\u001b[0m\n\u001b[0;32m     12\u001b[0m \u001b[1;33m\u001b[0m\u001b[0m\n\u001b[1;32m---> 13\u001b[1;33m \u001b[0mfin\u001b[0m\u001b[1;33m[\u001b[0m\u001b[1;34m'Expense_Type_Factor'\u001b[0m\u001b[1;33m]\u001b[0m \u001b[1;33m=\u001b[0m \u001b[0mpd\u001b[0m\u001b[1;33m.\u001b[0m\u001b[0mto_numeric\u001b[0m\u001b[1;33m(\u001b[0m\u001b[0mfin\u001b[0m\u001b[1;33m[\u001b[0m\u001b[1;34m'Expense_Type_Factor'\u001b[0m\u001b[1;33m]\u001b[0m\u001b[1;33m.\u001b[0m\u001b[0mastype\u001b[0m\u001b[1;33m(\u001b[0m\u001b[0mstr\u001b[0m\u001b[1;33m)\u001b[0m\u001b[1;33m.\u001b[0m\u001b[0mreplace\u001b[0m\u001b[1;33m(\u001b[0m\u001b[1;34m'[^0-9]]'\u001b[0m\u001b[1;33m,\u001b[0m \u001b[1;34m\"\"\u001b[0m\u001b[1;33m)\u001b[0m\u001b[1;33m.\u001b[0m\u001b[0mcopy\u001b[0m\u001b[1;33m(\u001b[0m\u001b[1;33m)\u001b[0m\u001b[1;33m)\u001b[0m\u001b[1;33m\u001b[0m\u001b[1;33m\u001b[0m\u001b[0m\n\u001b[0m",
      "\u001b[1;32m~\\Anaconda3\\lib\\site-packages\\pandas\\core\\tools\\numeric.py\u001b[0m in \u001b[0;36mto_numeric\u001b[1;34m(arg, errors, downcast)\u001b[0m\n\u001b[0;32m    133\u001b[0m             \u001b[0mcoerce_numeric\u001b[0m \u001b[1;33m=\u001b[0m \u001b[1;32mFalse\u001b[0m \u001b[1;32mif\u001b[0m \u001b[0merrors\u001b[0m \u001b[1;32min\u001b[0m \u001b[1;33m(\u001b[0m\u001b[1;34m'ignore'\u001b[0m\u001b[1;33m,\u001b[0m \u001b[1;34m'raise'\u001b[0m\u001b[1;33m)\u001b[0m \u001b[1;32melse\u001b[0m \u001b[1;32mTrue\u001b[0m\u001b[1;33m\u001b[0m\u001b[1;33m\u001b[0m\u001b[0m\n\u001b[0;32m    134\u001b[0m             values = lib.maybe_convert_numeric(values, set(),\n\u001b[1;32m--> 135\u001b[1;33m                                                coerce_numeric=coerce_numeric)\n\u001b[0m\u001b[0;32m    136\u001b[0m \u001b[1;33m\u001b[0m\u001b[0m\n\u001b[0;32m    137\u001b[0m     \u001b[1;32mexcept\u001b[0m \u001b[0mException\u001b[0m\u001b[1;33m:\u001b[0m\u001b[1;33m\u001b[0m\u001b[1;33m\u001b[0m\u001b[0m\n",
      "\u001b[1;32mpandas/_libs/lib.pyx\u001b[0m in \u001b[0;36mpandas._libs.lib.maybe_convert_numeric\u001b[1;34m()\u001b[0m\n",
      "\u001b[1;31mValueError\u001b[0m: Unable to parse string \"Research\" at position 80"
     ]
    }
   ],
   "source": [
    "def forecast(row):\n",
    "    if row['Budget']=='Est':\n",
    "        return row['Amount']\n",
    "    else:\n",
    "        return '0'\n",
    "    \n",
    "fin['Forecast_Amount'] = fin.apply(lambda x: forecast(x), axis=1)\n",
    "\n",
    "\n",
    "\n",
    "fin['Forecast_Amount'] = pd.to_numeric(fin['Forecast_Amount'].astype(str).replace('[^0-9]]', \"\").copy())\n",
    "\n",
    "fin['Expense_Type_Factor'] = pd.to_numeric(fin['Expense_Type_Factor'].astype(str).replace('[^0-9]]', \"\").copy())"
   ]
  },
  {
   "cell_type": "code",
   "execution_count": null,
   "metadata": {},
   "outputs": [],
   "source": [
    "fin.columns = fin.columns.str.replace(r\"[ ]\",\"_\")"
   ]
  },
  {
   "cell_type": "code",
   "execution_count": null,
   "metadata": {},
   "outputs": [],
   "source": [
    "fin.info()"
   ]
  },
  {
   "cell_type": "code",
   "execution_count": null,
   "metadata": {},
   "outputs": [],
   "source": [
    "fin['Budget_Amount'] = fin['Expense_Type_Factor']*fin['Forecast_Amount']"
   ]
  },
  {
   "cell_type": "code",
   "execution_count": null,
   "metadata": {},
   "outputs": [],
   "source": [
    "def adjamount(row):\n",
    "    if row['Transaction_Type']=='credit':\n",
    "        return row['Amount']\n",
    "    \n",
    "    elif row['Transaction_Type']=='debit':\n",
    "            return row['Amount']*-1\n",
    "    \n",
    "    else:\n",
    "        return 'Fix'\n",
    "    \n",
    "fin['Amount'] = fin.apply(lambda x: adjamount(x), axis=1)"
   ]
  },
  {
   "cell_type": "code",
   "execution_count": null,
   "metadata": {},
   "outputs": [],
   "source": [
    "fin.set_index('Date', inplace=True)\n",
    "fin.columns = fin.columns.str.replace(r\"[_]\",\" \")"
   ]
  },
  {
   "cell_type": "code",
   "execution_count": null,
   "metadata": {},
   "outputs": [],
   "source": [
    "fin1 = fin[['Month', 'Sub-Category', 'Description', 'Account Name',\n",
    "       'Transaction Type', 'Count', 'Category Number',\n",
    "       'Sub-Category Number', 'Category', 'Budget', 'Expense Type',\n",
    "       'Expense Type Factor', 'Forecast Amount', 'Budget Amount', 'Amount']]"
   ]
  },
  {
   "cell_type": "code",
   "execution_count": null,
   "metadata": {},
   "outputs": [],
   "source": [
    "fin_writer = pd.ExcelWriter(file_loc+'BI Source Data\\\\financial_transactions.xlsx', engine = 'xlsxwriter',\n",
    "                            datetime_format = 'mm/dd/yyyy')\n",
    "\n",
    "fin.to_excel(fin_writer, 'Data')\n",
    "workbook = fin_writer.book\n",
    "worksheet = fin_writer.sheets['Data']\n",
    "curFormat = workbook.add_format({'num_format': '$#,##0.00_);[Red]($#,##0.00)'})\n",
    "worksheet.set_column('D:D', None, curFormat)\n",
    "fin_writer.save()"
   ]
  },
  {
   "cell_type": "code",
   "execution_count": null,
   "metadata": {},
   "outputs": [],
   "source": [
    "input=input(\"Press here to close:\")"
   ]
  },
  {
   "cell_type": "code",
   "execution_count": null,
   "metadata": {},
   "outputs": [],
   "source": []
  }
 ],
 "metadata": {
  "kernelspec": {
   "display_name": "Python 3",
   "language": "python",
   "name": "python3"
  },
  "language_info": {
   "codemirror_mode": {
    "name": "ipython",
    "version": 3
   },
   "file_extension": ".py",
   "mimetype": "text/x-python",
   "name": "python",
   "nbconvert_exporter": "python",
   "pygments_lexer": "ipython3",
   "version": "3.7.3"
  }
 },
 "nbformat": 4,
 "nbformat_minor": 2
}
