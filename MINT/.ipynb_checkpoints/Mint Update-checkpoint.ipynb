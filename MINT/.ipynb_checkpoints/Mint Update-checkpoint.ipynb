{
 "cells": [
  {
   "cell_type": "code",
   "execution_count": 3,
   "metadata": {},
   "outputs": [
    {
     "ename": "FileNotFoundError",
     "evalue": "[WinError 3] The system cannot find the path specified: '../raw/Transactional Data/'",
     "output_type": "error",
     "traceback": [
      "\u001b[1;31m---------------------------------------------------------------------------\u001b[0m",
      "\u001b[1;31mFileNotFoundError\u001b[0m                         Traceback (most recent call last)",
      "\u001b[1;32m<ipython-input-3-3cf731256994>\u001b[0m in \u001b[0;36m<module>\u001b[1;34m\u001b[0m\n\u001b[0;32m     27\u001b[0m     \u001b[1;32mreturn\u001b[0m \u001b[0mdf\u001b[0m\u001b[1;33m\u001b[0m\u001b[1;33m\u001b[0m\u001b[0m\n\u001b[0;32m     28\u001b[0m \u001b[1;33m\u001b[0m\u001b[0m\n\u001b[1;32m---> 29\u001b[1;33m \u001b[0mfin\u001b[0m \u001b[1;33m=\u001b[0m \u001b[0mcombine_csv_files\u001b[0m\u001b[1;33m(\u001b[0m\u001b[0mfile_loc\u001b[0m\u001b[1;33m)\u001b[0m\u001b[1;33m\u001b[0m\u001b[1;33m\u001b[0m\u001b[0m\n\u001b[0m",
      "\u001b[1;32m<ipython-input-3-3cf731256994>\u001b[0m in \u001b[0;36mcombine_csv_files\u001b[1;34m(file_loc)\u001b[0m\n\u001b[0;32m     14\u001b[0m \u001b[1;32mdef\u001b[0m \u001b[0mcombine_csv_files\u001b[0m\u001b[1;33m(\u001b[0m\u001b[0mfile_loc\u001b[0m\u001b[1;33m)\u001b[0m\u001b[1;33m:\u001b[0m\u001b[1;33m\u001b[0m\u001b[1;33m\u001b[0m\u001b[0m\n\u001b[0;32m     15\u001b[0m \u001b[1;33m\u001b[0m\u001b[0m\n\u001b[1;32m---> 16\u001b[1;33m     \u001b[0mlistofnames\u001b[0m \u001b[1;33m=\u001b[0m \u001b[1;33m[\u001b[0m\u001b[0mf\u001b[0m \u001b[1;32mfor\u001b[0m \u001b[0mf\u001b[0m \u001b[1;32min\u001b[0m \u001b[0mos\u001b[0m\u001b[1;33m.\u001b[0m\u001b[0mlistdir\u001b[0m\u001b[1;33m(\u001b[0m\u001b[0mfile_loc\u001b[0m\u001b[1;33m)\u001b[0m \u001b[1;32mif\u001b[0m \u001b[0mf\u001b[0m\u001b[1;33m.\u001b[0m\u001b[0mendswith\u001b[0m\u001b[1;33m(\u001b[0m\u001b[1;34m'.csv'\u001b[0m\u001b[1;33m)\u001b[0m\u001b[1;33m]\u001b[0m\u001b[1;33m\u001b[0m\u001b[1;33m\u001b[0m\u001b[0m\n\u001b[0m\u001b[0;32m     17\u001b[0m \u001b[1;33m\u001b[0m\u001b[0m\n\u001b[0;32m     18\u001b[0m     \u001b[0mprint\u001b[0m\u001b[1;33m(\u001b[0m\u001b[1;34m'Opening: '\u001b[0m\u001b[1;33m)\u001b[0m\u001b[1;33m\u001b[0m\u001b[1;33m\u001b[0m\u001b[0m\n",
      "\u001b[1;31mFileNotFoundError\u001b[0m: [WinError 3] The system cannot find the path specified: '../raw/Transactional Data/'"
     ]
    }
   ],
   "source": [
    "import pandas as pd\n",
    "import os\n",
    "from datetime import datetime as dt\n",
    "import re\n",
    "\n",
    "\n",
    "\n",
    "\n",
    "file_loc = '../raw/Transactional Data/'\n",
    "\n",
    "file_loc1 = '../raw/Budget Template.xlsx'\n",
    "\n",
    "\n",
    "def combine_csv_files(file_loc):\n",
    "    \n",
    "    listofnames = [f for f in os.listdir(file_loc) if f.endswith('.csv')]\n",
    "    \n",
    "    print('Opening: ')\n",
    "    for ea in listofnames:\n",
    "        \n",
    "        print(ea)\n",
    "        try:\n",
    "            df = df.append(pd.read_csv(file_loc + ea))\n",
    "        except:\n",
    "            df = pd.read_csv(file_loc + ea)\n",
    "    \n",
    "    return df\n",
    "\n",
    "fin = combine_csv_files(file_loc)"
   ]
  },
  {
   "cell_type": "code",
   "execution_count": 2,
   "metadata": {
    "scrolled": true
   },
   "outputs": [
    {
     "ename": "NameError",
     "evalue": "name 'fin' is not defined",
     "output_type": "error",
     "traceback": [
      "\u001b[1;31m---------------------------------------------------------------------------\u001b[0m",
      "\u001b[1;31mNameError\u001b[0m                                 Traceback (most recent call last)",
      "\u001b[1;32m<ipython-input-2-3403538914a4>\u001b[0m in \u001b[0;36m<module>\u001b[1;34m\u001b[0m\n\u001b[1;32m----> 1\u001b[1;33m \u001b[0mfin\u001b[0m\u001b[1;33m.\u001b[0m\u001b[0mcolumns\u001b[0m \u001b[1;33m=\u001b[0m \u001b[0mfin\u001b[0m\u001b[1;33m.\u001b[0m\u001b[0mcolumns\u001b[0m\u001b[1;33m.\u001b[0m\u001b[0mstr\u001b[0m\u001b[1;33m.\u001b[0m\u001b[0mreplace\u001b[0m\u001b[1;33m(\u001b[0m\u001b[1;34mr\"[ ]\"\u001b[0m\u001b[1;33m,\u001b[0m\u001b[1;34m\"_\"\u001b[0m\u001b[1;33m)\u001b[0m\u001b[1;33m\u001b[0m\u001b[1;33m\u001b[0m\u001b[0m\n\u001b[0m\u001b[0;32m      2\u001b[0m \u001b[0mfin\u001b[0m\u001b[1;33m[\u001b[0m\u001b[1;34m'Date'\u001b[0m\u001b[1;33m]\u001b[0m \u001b[1;33m=\u001b[0m \u001b[0mpd\u001b[0m\u001b[1;33m.\u001b[0m\u001b[0mto_datetime\u001b[0m\u001b[1;33m(\u001b[0m\u001b[0mfin\u001b[0m\u001b[1;33m[\u001b[0m\u001b[1;34m'Date'\u001b[0m\u001b[1;33m]\u001b[0m\u001b[1;33m)\u001b[0m\u001b[1;33m\u001b[0m\u001b[1;33m\u001b[0m\u001b[0m\n\u001b[0;32m      3\u001b[0m \u001b[0mfin\u001b[0m\u001b[1;33m[\u001b[0m\u001b[1;34m'Month'\u001b[0m\u001b[1;33m]\u001b[0m \u001b[1;33m=\u001b[0m \u001b[0mfin\u001b[0m\u001b[1;33m[\u001b[0m\u001b[1;34m'Date'\u001b[0m\u001b[1;33m]\u001b[0m\u001b[1;33m\u001b[0m\u001b[1;33m\u001b[0m\u001b[0m\n",
      "\u001b[1;31mNameError\u001b[0m: name 'fin' is not defined"
     ]
    }
   ],
   "source": [
    "fin.columns = fin.columns.str.replace(r\"[ ]\",\"_\")\n",
    "fin['Date'] = pd.to_datetime(fin['Date'])\n",
    "fin['Month'] = fin['Date']"
   ]
  },
  {
   "cell_type": "code",
   "execution_count": 27,
   "metadata": {},
   "outputs": [],
   "source": [
    "fin = fin.groupby(['Date', 'Month', 'Category', 'Description', \n",
    "                   'Account_Name','Transaction_Type'], \n",
    "                  as_index=False).agg({'Amount':'sum', \n",
    "                                        'Original_Description':\"count\"})\n",
    "\n",
    "fin.rename({'Original_Description':'Count'}, axis=1, inplace=True)\n",
    "fin.rename({'Category':'Sub-Category'}, axis=1, inplace=True)"
   ]
  },
  {
   "cell_type": "code",
   "execution_count": 23,
   "metadata": {},
   "outputs": [],
   "source": [
    "fin = fin[(fin['Date'] > '2017-06-30')]"
   ]
  },
  {
   "cell_type": "code",
   "execution_count": null,
   "metadata": {
    "scrolled": true
   },
   "outputs": [],
   "source": [
    "fin['Sub-Category'].replace('Credit Card Payment', 'Transfer', inplace=True)\n",
    "fin = fin[~fin['Sub-Category'].str.contains('Transfer', na=False)]\n",
    "fin = fin[~fin['Sub-Category'].str.contains('Wedding Reimbursemen', na=False)]\n",
    "fin = fin[~fin['Sub-Category'].str.contains('Wedding expenses', na=False)]"
   ]
  },
  {
   "cell_type": "code",
   "execution_count": null,
   "metadata": {},
   "outputs": [],
   "source": [
    "exp = pd.read_excel(file_loc1, sheetname='Exp Ref')\n",
    "fin = fin.set_index('Sub-Category')\n",
    "exp.set_index('Sub-Category', inplace=True)\n",
    "exp.columns = exp.columns.str.replace(r\"[ ]\",\"_\")"
   ]
  },
  {
   "cell_type": "code",
   "execution_count": null,
   "metadata": {},
   "outputs": [],
   "source": [
    "fin = fin.join(exp, how=\"left\").fillna(\"Research\")\n",
    "fin.reset_index(inplace=True)"
   ]
  },
  {
   "cell_type": "code",
   "execution_count": null,
   "metadata": {
    "scrolled": true
   },
   "outputs": [],
   "source": [
    "fin2 = fin.loc[fin['Expense_Type_Factor']=='Research']\n",
    "print(fin2[['Date', 'Sub-Category', 'Description', 'Category', 'Amount']].head(25))\n",
    "\n",
    "\n",
    "input(\"ERROR UPDATE: IF LINE ITEM APPEARS, GO BACK TO MINT.COM AND MAKE CORRECTIONS \\n\"\n",
    "      \"Otherwise, Press Enter to Continue:\")"
   ]
  },
  {
   "cell_type": "code",
   "execution_count": null,
   "metadata": {},
   "outputs": [],
   "source": [
    "def forecast(row):\n",
    "    if row['Budget']=='Est':\n",
    "        return row['Amount']\n",
    "    else:\n",
    "        return '0'\n",
    "    \n",
    "fin['Forecast_Amount'] = fin.apply(lambda x: forecast(x), axis=1)\n",
    "\n",
    "\n",
    "\n",
    "fin['Forecast_Amount'] = pd.to_numeric(fin['Forecast_Amount'].astype(str).replace('[^0-9]]', \"\").copy())\n",
    "\n",
    "fin['Expense_Type_Factor'] = pd.to_numeric(fin['Expense_Type_Factor'].astype(str).replace('[^0-9]]', \"\").copy())"
   ]
  },
  {
   "cell_type": "code",
   "execution_count": null,
   "metadata": {},
   "outputs": [],
   "source": [
    "fin.columns = fin.columns.str.replace(r\"[ ]\",\"_\")"
   ]
  },
  {
   "cell_type": "code",
   "execution_count": null,
   "metadata": {},
   "outputs": [],
   "source": [
    "fin.info()"
   ]
  },
  {
   "cell_type": "code",
   "execution_count": null,
   "metadata": {},
   "outputs": [],
   "source": [
    "fin['Budget_Amount'] = fin['Expense_Type_Factor']*fin['Forecast_Amount']"
   ]
  },
  {
   "cell_type": "code",
   "execution_count": null,
   "metadata": {},
   "outputs": [],
   "source": [
    "def adjamount(row):\n",
    "    if row['Transaction_Type']=='credit':\n",
    "        return row['Amount']\n",
    "    \n",
    "    elif row['Transaction_Type']=='debit':\n",
    "            return row['Amount']*-1\n",
    "    \n",
    "    else:\n",
    "        return 'Fix'\n",
    "    \n",
    "fin['Amount'] = fin.apply(lambda x: adjamount(x), axis=1)"
   ]
  },
  {
   "cell_type": "code",
   "execution_count": null,
   "metadata": {},
   "outputs": [],
   "source": [
    "fin.set_index('Date', inplace=True)\n",
    "fin.columns = fin.columns.str.replace(r\"[_]\",\" \")"
   ]
  },
  {
   "cell_type": "code",
   "execution_count": null,
   "metadata": {},
   "outputs": [],
   "source": [
    "fin1 = fin[['Month', 'Sub-Category', 'Description', 'Account Name',\n",
    "       'Transaction Type', 'Count', 'Category Number',\n",
    "       'Sub-Category Number', 'Category', 'Budget', 'Expense Type',\n",
    "       'Expense Type Factor', 'Forecast Amount', 'Budget Amount', 'Amount']]"
   ]
  },
  {
   "cell_type": "code",
   "execution_count": null,
   "metadata": {},
   "outputs": [],
   "source": [
    "fin_writer = pd.ExcelWriter('../final/financial_transactions.xlsx', engine = 'xlsxwriter',\n",
    "                            datetime_format = 'mm/dd/yyyy')\n",
    "\n",
    "fin.to_excel(fin_writer, 'Data')\n",
    "workbook = fin_writer.book\n",
    "worksheet = fin_writer.sheets['Data']\n",
    "curFormat = workbook.add_format({'num_format': '$#,##0.00_);[Red]($#,##0.00)'})\n",
    "worksheet.set_column('D:D', None, curFormat)\n",
    "fin_writer.save()"
   ]
  },
  {
   "cell_type": "code",
   "execution_count": null,
   "metadata": {},
   "outputs": [],
   "source": [
    "input=input(\"Press here to close:\")"
   ]
  },
  {
   "cell_type": "code",
   "execution_count": null,
   "metadata": {},
   "outputs": [],
   "source": []
  }
 ],
 "metadata": {
  "kernelspec": {
   "display_name": "Python 3",
   "language": "python",
   "name": "python3"
  },
  "language_info": {
   "codemirror_mode": {
    "name": "ipython",
    "version": 3
   },
   "file_extension": ".py",
   "mimetype": "text/x-python",
   "name": "python",
   "nbconvert_exporter": "python",
   "pygments_lexer": "ipython3",
   "version": "3.7.3"
  },
  "varInspector": {
   "cols": {
    "lenName": 16,
    "lenType": 16,
    "lenVar": 40
   },
   "kernels_config": {
    "python": {
     "delete_cmd_postfix": "",
     "delete_cmd_prefix": "del ",
     "library": "var_list.py",
     "varRefreshCmd": "print(var_dic_list())"
    },
    "r": {
     "delete_cmd_postfix": ") ",
     "delete_cmd_prefix": "rm(",
     "library": "var_list.r",
     "varRefreshCmd": "cat(var_dic_list()) "
    }
   },
   "types_to_exclude": [
    "module",
    "function",
    "builtin_function_or_method",
    "instance",
    "_Feature"
   ],
   "window_display": false
  }
 },
 "nbformat": 4,
 "nbformat_minor": 2
}
