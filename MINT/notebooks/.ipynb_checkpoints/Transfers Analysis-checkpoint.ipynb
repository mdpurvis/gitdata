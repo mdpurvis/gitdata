{
 "cells": [
  {
   "cell_type": "code",
   "execution_count": 1,
   "metadata": {},
   "outputs": [],
   "source": [
    "import pandas as pd\n",
    "import os\n",
    "from datetime import datetime as dt\n",
    "\n",
    "file_loc = '../raw/Transactional Data/'\n",
    "file_loc1 = '../raw/Budget Template.xlsx'\n",
    "\n",
    "def combine_csv_files(file_loc):\n",
    "    \n",
    "    listofnames = [f for f in os.listdir(file_loc) if f.endswith('.csv')]\n",
    "    \n",
    "    for ea in listofnames:\n",
    "        \n",
    "        print(ea)\n",
    "        try:\n",
    "            df = df.append(pd.read_csv(file_loc + ea))\n",
    "        except:\n",
    "            df = pd.read_csv(file_loc + ea)\n",
    "    \n",
    "    return df\n",
    "\n",
    "\n",
    "\n",
    "def transfertype(row):\n",
    "    if row['Transaction_Type'] == 'debit':\n",
    "        return 'Out'\n",
    "    else:\n",
    "        return 'In'"
   ]
  },
  {
   "cell_type": "code",
   "execution_count": 3,
   "metadata": {
    "scrolled": true
   },
   "outputs": [
    {
     "name": "stdout",
     "output_type": "stream",
     "text": [
      "Amazon CC Transactions.csv\n",
      "capone.csv\n",
      "transactions.csv\n"
     ]
    }
   ],
   "source": [
    "fin = combine_csv_files(file_loc)\n",
    "fin.columns = fin.columns.str.replace(r\"[ ]\",\"_\")\n",
    "fin['Date'] = pd.to_datetime(fin['Date'])\n",
    "fin['Month'] = fin['Date']"
   ]
  },
  {
   "cell_type": "code",
   "execution_count": 4,
   "metadata": {},
   "outputs": [],
   "source": [
    "fin = fin.groupby(['Date', 'Month', 'Category', 'Description', \n",
    "                   'Account_Name','Transaction_Type'], \n",
    "                  as_index=False).agg({'Amount':'sum', \n",
    "                                        'Original_Description':\"count\"})\n",
    "\n",
    "fin.rename({'Original_Description':'Count'}, axis=1, inplace=True)\n",
    "fin.rename({'Category':'Sub-Category'}, axis=1, inplace=True)"
   ]
  },
  {
   "cell_type": "code",
   "execution_count": 5,
   "metadata": {},
   "outputs": [],
   "source": [
    "fin = fin[(fin['Date'] > '2017-06-30')]"
   ]
  },
  {
   "cell_type": "code",
   "execution_count": 6,
   "metadata": {
    "scrolled": true
   },
   "outputs": [],
   "source": [
    "fin = fin[~fin['Sub-Category'].str.contains('Wedding Reimbursemen', na=False)]\n",
    "fin = fin[~fin['Sub-Category'].str.contains('Wedding expenses', na=False)]\n",
    "\n",
    "fin = fin.loc[fin['Sub-Category']=='Transfer']\n",
    "\n",
    "fin['Transfer_Type'] = fin.apply(lambda x: transfertype(x), axis=1)\n",
    "\n",
    "fin['Amount'] = fin['Amount'].abs()"
   ]
  },
  {
   "cell_type": "code",
   "execution_count": 7,
   "metadata": {},
   "outputs": [],
   "source": [
    "fin.set_index('Date', inplace=True)\n",
    "fin.columns = fin.columns.str.replace(r\"[_]\",\" \")"
   ]
  },
  {
   "cell_type": "code",
   "execution_count": 8,
   "metadata": {},
   "outputs": [],
   "source": [
    "df = fin[['Month', 'Sub-Category', 'Description', 'Account Name',\n",
    "       'Transaction Type', 'Count', 'Amount', 'Transfer Type']]"
   ]
  },
  {
   "cell_type": "code",
   "execution_count": 9,
   "metadata": {},
   "outputs": [],
   "source": [
    "fin_writer = pd.ExcelWriter('../final/transfer_report.xlsx', engine = 'xlsxwriter',\n",
    "                            datetime_format = 'mm/dd/yyyy')\n",
    "\n",
    "df.to_excel(fin_writer, 'Data')\n",
    "workbook = fin_writer.book\n",
    "worksheet = fin_writer.sheets['Data']\n",
    "curFormat = workbook.add_format({'num_format': '$#,##0.00_);[Red]($#,##0.00)'})\n",
    "worksheet.set_column('D:D', None, curFormat)\n",
    "fin_writer.save()"
   ]
  },
  {
   "cell_type": "code",
   "execution_count": 10,
   "metadata": {},
   "outputs": [
    {
     "name": "stdout",
     "output_type": "stream",
     "text": [
      "Press here to close:\n"
     ]
    }
   ],
   "source": [
    "input=input(\"Press here to close:\")"
   ]
  },
  {
   "cell_type": "code",
   "execution_count": null,
   "metadata": {},
   "outputs": [],
   "source": []
  }
 ],
 "metadata": {
  "kernelspec": {
   "display_name": "Python 3",
   "language": "python",
   "name": "python3"
  },
  "language_info": {
   "codemirror_mode": {
    "name": "ipython",
    "version": 3
   },
   "file_extension": ".py",
   "mimetype": "text/x-python",
   "name": "python",
   "nbconvert_exporter": "python",
   "pygments_lexer": "ipython3",
   "version": "3.7.3"
  },
  "varInspector": {
   "cols": {
    "lenName": 16,
    "lenType": 16,
    "lenVar": 40
   },
   "kernels_config": {
    "python": {
     "delete_cmd_postfix": "",
     "delete_cmd_prefix": "del ",
     "library": "var_list.py",
     "varRefreshCmd": "print(var_dic_list())"
    },
    "r": {
     "delete_cmd_postfix": ") ",
     "delete_cmd_prefix": "rm(",
     "library": "var_list.r",
     "varRefreshCmd": "cat(var_dic_list()) "
    }
   },
   "types_to_exclude": [
    "module",
    "function",
    "builtin_function_or_method",
    "instance",
    "_Feature"
   ],
   "window_display": false
  }
 },
 "nbformat": 4,
 "nbformat_minor": 2
}
