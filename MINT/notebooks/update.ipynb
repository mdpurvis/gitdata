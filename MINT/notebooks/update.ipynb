{
 "cells": [
  {
   "cell_type": "code",
   "execution_count": 1,
   "metadata": {},
   "outputs": [],
   "source": [
    "import pandas as pd\n",
    "import numpy as np\n",
    "import os\n",
    "from datetime import datetime as dt\n",
    "import re\n",
    "\n",
    "\n",
    "\n",
    "\n",
    "file_loc = '../data/raw/Transactional Data/'\n",
    "file_loc1 = '../data/raw/Budget Template.xlsx'\n",
    "\n",
    "\n",
    "def combine_csv_files(file_loc):\n",
    "    \n",
    "    listofnames = [f for f in os.listdir(file_loc) if f.endswith('.csv')]\n",
    "    \n",
    "    print('Opening: ')\n",
    "    for ea in listofnames:\n",
    "        \n",
    "        print(ea)\n",
    "        try:\n",
    "            df = df.append(pd.read_csv(file_loc + ea))\n",
    "        except:\n",
    "            df = pd.read_csv(file_loc + ea)\n",
    "    \n",
    "    return df"
   ]
  },
  {
   "cell_type": "code",
   "execution_count": 2,
   "metadata": {
    "scrolled": true
   },
   "outputs": [
    {
     "name": "stdout",
     "output_type": "stream",
     "text": [
      "Opening: \n",
      "Amazon CC Transactions.csv\n",
      "capone.csv\n",
      "capone2.csv\n",
      "transactions.csv\n"
     ]
    }
   ],
   "source": [
    "fin = combine_csv_files(file_loc)\n",
    "fin.columns = fin.columns.str.replace(r\"[ ]\",\"_\")\n",
    "fin['Date'] = pd.to_datetime(fin['Date'])\n",
    "fin['Month'] = fin['Date']\n",
    "\n",
    "\n",
    "\n",
    "\n",
    "fin = fin.groupby(['Date', 'Month', 'Category', 'Description', \n",
    "                   'Account_Name','Transaction_Type'], \n",
    "                  as_index=False).agg({'Amount':'sum', \n",
    "                                        'Original_Description':\"count\"})\n",
    "\n",
    "fin.rename({'Original_Description':'Count'}, axis=1, inplace=True)\n",
    "fin.rename({'Category':'Sub_Category'}, axis=1, inplace=True)\n",
    "\n",
    "\n",
    "\n",
    "\n",
    "\n",
    "fin = fin[(fin['Date'] > '2017-06-30')]\n",
    "\n",
    "\n",
    "\n",
    "\n",
    "fin['Sub_Category'].replace('Credit Card Payment', 'Transfer', inplace=True)\n",
    "fin = fin[~fin['Sub_Category'].str.contains('Wedding Reimbursement', na=False)]\n",
    "fin = fin[~fin['Sub_Category'].str.contains('Wedding expenses', na=False)]\n",
    "fin1 = fin\n",
    "\n",
    "\n",
    "\n",
    "\n",
    "fin1 = fin1[~fin1['Sub_Category'].str.contains('Transfer', na=False)]"
   ]
  },
  {
   "cell_type": "code",
   "execution_count": 3,
   "metadata": {},
   "outputs": [],
   "source": [
    "exp = pd.read_excel(file_loc1, sheet_name='Exp Ref')\n",
    "exp.rename({'Sub-Category':'Sub_Category'}, axis=1, inplace=True)\n",
    "fin1 = fin1.set_index('Sub_Category')\n",
    "exp.set_index('Sub_Category', inplace=True)\n",
    "exp.columns = exp.columns.str.replace(r\"[ ]\",\"_\")\n",
    "\n",
    "\n",
    "\n",
    "\n",
    "fin1 = fin1.join(exp, how=\"left\").fillna(\"Research\")\n",
    "fin1.reset_index(inplace=True)"
   ]
  },
  {
   "cell_type": "code",
   "execution_count": 4,
   "metadata": {
    "scrolled": true
   },
   "outputs": [
    {
     "name": "stderr",
     "output_type": "stream",
     "text": [
      "C:\\Users\\mdpur\\Anaconda3\\lib\\site-packages\\pandas\\core\\ops\\__init__.py:1115: FutureWarning: elementwise comparison failed; returning scalar instead, but in the future will perform elementwise comparison\n",
      "  result = method(y)\n"
     ]
    },
    {
     "name": "stdout",
     "output_type": "stream",
     "text": [
      "Empty DataFrame\n",
      "Columns: [Date, Sub_Category, Description, Category, Amount]\n",
      "Index: []\n",
      "ERROR UPDATE: IF LINE ITEM APPEARS, GO BACK TO MINT.COM AND MAKE CORRECTIONS \n",
      "Otherwise, Press Enter to Continue:\n"
     ]
    },
    {
     "data": {
      "text/plain": [
       "''"
      ]
     },
     "execution_count": 4,
     "metadata": {},
     "output_type": "execute_result"
    }
   ],
   "source": [
    "fin2 = fin1.loc[fin1['Expense_Type_Factor']=='Research']\n",
    "print(fin2[['Date', 'Sub_Category', 'Description', 'Category', 'Amount']].head(25))\n",
    "\n",
    "\n",
    "input(\"ERROR UPDATE: IF LINE ITEM APPEARS, GO BACK TO MINT.COM AND MAKE CORRECTIONS \\n\"\n",
    "      \"Otherwise, Press Enter to Continue:\")"
   ]
  },
  {
   "cell_type": "code",
   "execution_count": 5,
   "metadata": {},
   "outputs": [],
   "source": [
    "fin1.loc[fin1['Budget']=='Est', 'Forecast_Amount'] = fin1['Amount']\n",
    "fin1.loc[fin1['Budget']!='Est', 'Forecast_Amount'] = 0\n",
    "\n",
    "fin1['Forecast_Amount'] = pd.to_numeric(fin1['Forecast_Amount'].astype(str).replace('[^0-9]]', \"\").copy())\n",
    "\n",
    "fin1['Expense_Type_Factor'] = pd.to_numeric(fin1['Expense_Type_Factor'].astype(str).replace('[^0-9]]', \"\").copy())"
   ]
  },
  {
   "cell_type": "code",
   "execution_count": 6,
   "metadata": {},
   "outputs": [],
   "source": [
    "fin1['Budget_Amount'] = fin1['Expense_Type_Factor']*fin1['Forecast_Amount']\n",
    "\n",
    "\n",
    "fin1.loc[fin1['Transaction_Type']=='credit', 'Amount'] = fin1['Amount']\n",
    "fin1.loc[fin1['Transaction_Type']=='debit', 'Amount'] = fin1['Amount']*-1"
   ]
  },
  {
   "cell_type": "code",
   "execution_count": 7,
   "metadata": {},
   "outputs": [],
   "source": [
    "fin1.rename({'Sub_Category':'Sub-Category'}, axis=1, inplace=True)\n",
    "\n",
    "fin1.set_index('Date', inplace=True)\n",
    "fin1.columns = fin1.columns.str.replace(r\"[_]\",\" \")\n",
    "\n",
    "\n",
    "\n",
    "\n",
    "fin1 = fin1[['Month', 'Sub-Category', 'Description', 'Account Name',\n",
    "       'Transaction Type', 'Count', 'Category Number',\n",
    "       'Sub-Category Number', 'Category', 'Budget', 'Expense Type',\n",
    "       'Expense Type Factor', 'Forecast Amount', 'Budget Amount', 'Amount']]"
   ]
  },
  {
   "cell_type": "code",
   "execution_count": 8,
   "metadata": {
    "scrolled": true
   },
   "outputs": [
    {
     "name": "stderr",
     "output_type": "stream",
     "text": [
      "C:\\Users\\mdpur\\Anaconda3\\lib\\site-packages\\ipykernel_launcher.py:3: SettingWithCopyWarning: \n",
      "A value is trying to be set on a copy of a slice from a DataFrame.\n",
      "Try using .loc[row_indexer,col_indexer] = value instead\n",
      "\n",
      "See the caveats in the documentation: http://pandas.pydata.org/pandas-docs/stable/user_guide/indexing.html#returning-a-view-versus-a-copy\n",
      "  This is separate from the ipykernel package so we can avoid doing imports until\n",
      "C:\\Users\\mdpur\\Anaconda3\\lib\\site-packages\\pandas\\core\\indexing.py:376: SettingWithCopyWarning: \n",
      "A value is trying to be set on a copy of a slice from a DataFrame.\n",
      "Try using .loc[row_indexer,col_indexer] = value instead\n",
      "\n",
      "See the caveats in the documentation: http://pandas.pydata.org/pandas-docs/stable/user_guide/indexing.html#returning-a-view-versus-a-copy\n",
      "  self.obj[key] = _infer_fill_value(value)\n",
      "C:\\Users\\mdpur\\Anaconda3\\lib\\site-packages\\pandas\\core\\indexing.py:494: SettingWithCopyWarning: \n",
      "A value is trying to be set on a copy of a slice from a DataFrame.\n",
      "Try using .loc[row_indexer,col_indexer] = value instead\n",
      "\n",
      "See the caveats in the documentation: http://pandas.pydata.org/pandas-docs/stable/user_guide/indexing.html#returning-a-view-versus-a-copy\n",
      "  self.obj[item] = s\n"
     ]
    }
   ],
   "source": [
    "trfr = fin.loc[fin['Sub_Category'] == \"Transfer\"]\n",
    "\n",
    "trfr['Amount'] = trfr.loc[trfr['Amount']<0, ' Amount'] = trfr['Amount']*-1"
   ]
  },
  {
   "cell_type": "code",
   "execution_count": 9,
   "metadata": {},
   "outputs": [],
   "source": [
    "trfr.loc[trfr['Transaction_Type']!='debit', 'Transfer_Type'] = str('In')\n",
    "trfr.loc[trfr['Transfer_Type']!='In', 'Transfer_Type'] = str('Out')"
   ]
  },
  {
   "cell_type": "code",
   "execution_count": 10,
   "metadata": {},
   "outputs": [],
   "source": [
    "trfr.set_index('Date', inplace=True)\n",
    "trfr.columns = trfr.columns.str.replace(r\"[_]\",\" \")"
   ]
  },
  {
   "cell_type": "code",
   "execution_count": 13,
   "metadata": {
    "scrolled": true
   },
   "outputs": [],
   "source": [
    "trfr.rename({'Sub Category':'Sub-Category'}, axis=1, inplace=True)"
   ]
  },
  {
   "cell_type": "code",
   "execution_count": 14,
   "metadata": {},
   "outputs": [],
   "source": [
    "df = trfr[['Month', 'Sub-Category', 'Description', 'Account Name',\n",
    "       'Transaction Type', 'Count', 'Amount', 'Transfer Type']]"
   ]
  },
  {
   "cell_type": "code",
   "execution_count": 15,
   "metadata": {
    "scrolled": true
   },
   "outputs": [
    {
     "data": {
      "text/html": [
       "<div>\n",
       "<style scoped>\n",
       "    .dataframe tbody tr th:only-of-type {\n",
       "        vertical-align: middle;\n",
       "    }\n",
       "\n",
       "    .dataframe tbody tr th {\n",
       "        vertical-align: top;\n",
       "    }\n",
       "\n",
       "    .dataframe thead th {\n",
       "        text-align: right;\n",
       "    }\n",
       "</style>\n",
       "<table border=\"1\" class=\"dataframe\">\n",
       "  <thead>\n",
       "    <tr style=\"text-align: right;\">\n",
       "      <th></th>\n",
       "      <th>Date</th>\n",
       "      <th>Amount</th>\n",
       "    </tr>\n",
       "  </thead>\n",
       "  <tbody>\n",
       "    <tr>\n",
       "      <th>0</th>\n",
       "      <td>2017-07-03</td>\n",
       "      <td>-338.73</td>\n",
       "    </tr>\n",
       "    <tr>\n",
       "      <th>1</th>\n",
       "      <td>2017-07-04</td>\n",
       "      <td>-56.36</td>\n",
       "    </tr>\n",
       "    <tr>\n",
       "      <th>2</th>\n",
       "      <td>2017-07-05</td>\n",
       "      <td>15.08</td>\n",
       "    </tr>\n",
       "  </tbody>\n",
       "</table>\n",
       "</div>"
      ],
      "text/plain": [
       "        Date  Amount\n",
       "0 2017-07-03 -338.73\n",
       "1 2017-07-04  -56.36\n",
       "2 2017-07-05   15.08"
      ]
     },
     "execution_count": 15,
     "metadata": {},
     "output_type": "execute_result"
    }
   ],
   "source": [
    "amt = fin1\n",
    "amt.reset_index(inplace=True)\n",
    "amt = amt.groupby(['Date'], \n",
    "                  as_index=False).agg({'Amount':'sum'})\n",
    "# amt.Date.value_counts()\n",
    "amt.head(3)"
   ]
  },
  {
   "cell_type": "code",
   "execution_count": 16,
   "metadata": {},
   "outputs": [
    {
     "data": {
      "text/html": [
       "<div>\n",
       "<style scoped>\n",
       "    .dataframe tbody tr th:only-of-type {\n",
       "        vertical-align: middle;\n",
       "    }\n",
       "\n",
       "    .dataframe tbody tr th {\n",
       "        vertical-align: top;\n",
       "    }\n",
       "\n",
       "    .dataframe thead th {\n",
       "        text-align: right;\n",
       "    }\n",
       "</style>\n",
       "<table border=\"1\" class=\"dataframe\">\n",
       "  <thead>\n",
       "    <tr style=\"text-align: right;\">\n",
       "      <th></th>\n",
       "      <th>Date</th>\n",
       "      <th>Amount</th>\n",
       "      <th>Cash</th>\n",
       "    </tr>\n",
       "  </thead>\n",
       "  <tbody>\n",
       "    <tr>\n",
       "      <th>0</th>\n",
       "      <td>2017-07-03</td>\n",
       "      <td>-338.73</td>\n",
       "      <td>9255.58</td>\n",
       "    </tr>\n",
       "    <tr>\n",
       "      <th>1</th>\n",
       "      <td>2017-07-04</td>\n",
       "      <td>-56.36</td>\n",
       "      <td>8916.85</td>\n",
       "    </tr>\n",
       "    <tr>\n",
       "      <th>2</th>\n",
       "      <td>2017-07-05</td>\n",
       "      <td>15.08</td>\n",
       "      <td>8860.49</td>\n",
       "    </tr>\n",
       "  </tbody>\n",
       "</table>\n",
       "</div>"
      ],
      "text/plain": [
       "        Date  Amount     Cash\n",
       "0 2017-07-03 -338.73  9255.58\n",
       "1 2017-07-04  -56.36  8916.85\n",
       "2 2017-07-05   15.08  8860.49"
      ]
     },
     "execution_count": 16,
     "metadata": {},
     "output_type": "execute_result"
    }
   ],
   "source": [
    "amt['Cash'] = amt.Amount.shift(1)\n",
    "\n",
    "beg_balance = 9255.58\n",
    "amt.Cash.fillna(beg_balance, inplace=True)\n",
    "\n",
    "amt['Cash'] = amt['Cash'].cumsum(axis=0)\n",
    "amt.head(3)"
   ]
  },
  {
   "cell_type": "code",
   "execution_count": 17,
   "metadata": {},
   "outputs": [],
   "source": [
    "# L = amt['Cash'].tolist()\n",
    "\n",
    "# def add_one_by_one(L):\n",
    "#     new_L = []\n",
    "#     for elt in L:\n",
    "#         if len(new_L)>0:\n",
    "#             new_L.append(new_L[-1]+elt)\n",
    "#         else:\n",
    "#             new_L.append(elt)\n",
    "#     return new_L\n",
    "\n",
    "# new_L = add_one_by_one(L)\n",
    "\n",
    "# amt['Cash'] = new_L\n",
    "# amt.head(3)"
   ]
  },
  {
   "cell_type": "code",
   "execution_count": 18,
   "metadata": {},
   "outputs": [],
   "source": [
    "amt.set_index('Date',inplace=True)\n",
    "fin1.set_index('Date', inplace=True)\n",
    "fin = fin1.join(amt['Cash']).fillna('Research')"
   ]
  },
  {
   "cell_type": "code",
   "execution_count": 19,
   "metadata": {},
   "outputs": [],
   "source": [
    "fin_writer = pd.ExcelWriter('../data/final/financial_transactions.xlsx', engine = 'xlsxwriter',\n",
    "                            datetime_format = 'mm/dd/yyyy')\n",
    "\n",
    "\n",
    "fin.to_excel(fin_writer, 'Data')\n",
    "workbook = fin_writer.book\n",
    "worksheet = fin_writer.sheets['Data']\n",
    "curFormat = workbook.add_format({'num_format': '$#,##0.00_);[Red]($#,##0.00)'})\n",
    "worksheet.set_column('D:D', None, curFormat)\n",
    "fin_writer.save()"
   ]
  },
  {
   "cell_type": "code",
   "execution_count": 20,
   "metadata": {},
   "outputs": [],
   "source": [
    "trfr_writer = pd.ExcelWriter('../data/final/transfer_report.xlsx', engine = 'xlsxwriter',\n",
    "                            datetime_format = 'mm/dd/yyyy')\n",
    "\n",
    "df.to_excel(trfr_writer, 'Data')\n",
    "workbook = trfr_writer.book\n",
    "worksheet = trfr_writer.sheets['Data']\n",
    "curFormat = workbook.add_format({'num_format': '$#,##0.00_);[Red]($#,##0.00)'})\n",
    "worksheet.set_column('D:D', None, curFormat)\n",
    "trfr_writer.save()"
   ]
  },
  {
   "cell_type": "code",
   "execution_count": 21,
   "metadata": {},
   "outputs": [
    {
     "name": "stdout",
     "output_type": "stream",
     "text": [
      "Press Enter to Close:\n"
     ]
    },
    {
     "data": {
      "text/plain": [
       "''"
      ]
     },
     "execution_count": 21,
     "metadata": {},
     "output_type": "execute_result"
    }
   ],
   "source": [
    "input(\"Press Enter to Close:\")"
   ]
  },
  {
   "cell_type": "code",
   "execution_count": null,
   "metadata": {},
   "outputs": [],
   "source": []
  }
 ],
 "metadata": {
  "kernelspec": {
   "display_name": "Python 3",
   "language": "python",
   "name": "python3"
  },
  "language_info": {
   "codemirror_mode": {
    "name": "ipython",
    "version": 3
   },
   "file_extension": ".py",
   "mimetype": "text/x-python",
   "name": "python",
   "nbconvert_exporter": "python",
   "pygments_lexer": "ipython3",
   "version": "3.7.3"
  },
  "varInspector": {
   "cols": {
    "lenName": 16,
    "lenType": 16,
    "lenVar": 40
   },
   "kernels_config": {
    "python": {
     "delete_cmd_postfix": "",
     "delete_cmd_prefix": "del ",
     "library": "var_list.py",
     "varRefreshCmd": "print(var_dic_list())"
    },
    "r": {
     "delete_cmd_postfix": ") ",
     "delete_cmd_prefix": "rm(",
     "library": "var_list.r",
     "varRefreshCmd": "cat(var_dic_list()) "
    }
   },
   "types_to_exclude": [
    "module",
    "function",
    "builtin_function_or_method",
    "instance",
    "_Feature"
   ],
   "window_display": false
  }
 },
 "nbformat": 4,
 "nbformat_minor": 2
}
