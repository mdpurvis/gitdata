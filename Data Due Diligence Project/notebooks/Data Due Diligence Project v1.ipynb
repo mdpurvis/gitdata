{
 "cells": [
  {
   "cell_type": "code",
   "execution_count": 43,
   "metadata": {},
   "outputs": [],
   "source": [
    "import pandas as pd\n",
    "import re\n",
    "from scipy.stats import ttest_ind\n",
    "import scipy.stats\n",
    "from sklearn.preprocessing import OneHotEncoder\n",
    "\n",
    "import matplotlib.pyplot as plt\n",
    "%matplotlib inline\n",
    "%config InlineBackend.figure_format = 'retina'\n",
    "plt.style.use('ggplot')\n",
    "plt.rcParams['figure.figsize'] = (15,10)"
   ]
  },
  {
   "cell_type": "code",
   "execution_count": 2,
   "metadata": {},
   "outputs": [],
   "source": [
    "df = pd.read_csv('../data/raw/Customer_Dataset_File.csv')\n",
    "df.replace('#NULL!', np.NaN, inplace=True)"
   ]
  },
  {
   "cell_type": "code",
   "execution_count": 3,
   "metadata": {},
   "outputs": [
    {
     "data": {
      "text/plain": [
       "(5000, 59)"
      ]
     },
     "execution_count": 3,
     "metadata": {},
     "output_type": "execute_result"
    }
   ],
   "source": [
    "#What is the dimension of the data set - number of rows and columns\n",
    "df.shape"
   ]
  },
  {
   "cell_type": "code",
   "execution_count": 4,
   "metadata": {},
   "outputs": [],
   "source": [
    "#To get the names of all the variable columns in the data set\n",
    "# print(df.columns)"
   ]
  },
  {
   "cell_type": "code",
   "execution_count": 5,
   "metadata": {
    "scrolled": true
   },
   "outputs": [],
   "source": [
    "# df.head().T"
   ]
  },
  {
   "cell_type": "code",
   "execution_count": 6,
   "metadata": {
    "scrolled": true
   },
   "outputs": [
    {
     "name": "stdout",
     "output_type": "stream",
     "text": [
      "Number of rows: 5000 \n",
      "\n",
      "Number of columns: 59 \n",
      "\n",
      "Total cells: 295000 \n",
      "\n",
      "Total values: 294872 \n",
      "\n",
      "Missing values: 128 \n",
      "\n"
     ]
    }
   ],
   "source": [
    "rows = len(df)\n",
    "columns = len(df.columns)\n",
    "values = rows*columns\n",
    "non_na = df.count().sum()\n",
    "na = values-non_na\n",
    "\n",
    "print('Number of rows:', rows, '\\n')\n",
    "print('Number of columns:', columns, '\\n')\n",
    "print('Total cells:', values, '\\n')\n",
    "print('Total values:', non_na, '\\n')\n",
    "print('Missing values:', na, '\\n')"
   ]
  },
  {
   "cell_type": "code",
   "execution_count": 7,
   "metadata": {},
   "outputs": [
    {
     "data": {
      "text/plain": [
       "['TownSize',\n",
       " 'Gender',\n",
       " 'JobCategory',\n",
       " 'HouseholdSize',\n",
       " 'NumberPets',\n",
       " 'NumberCats',\n",
       " 'NumberDogs',\n",
       " 'NumberBirds',\n",
       " 'HomeOwner',\n",
       " 'CommuteTime']"
      ]
     },
     "execution_count": 7,
     "metadata": {},
     "output_type": "execute_result"
    }
   ],
   "source": [
    "#Highlight what columns have missing values\n",
    "[col for col in df.columns if df[col].isnull().any()]"
   ]
  },
  {
   "cell_type": "code",
   "execution_count": 8,
   "metadata": {
    "scrolled": true
   },
   "outputs": [],
   "source": [
    "#What are the difference data types in the data set?\n",
    "# df.dtypes"
   ]
  },
  {
   "cell_type": "code",
   "execution_count": 9,
   "metadata": {},
   "outputs": [],
   "source": [
    "# define module to create frequency distribution of variables\n",
    "def freq_dist(df, col):\n",
    "    df_fd = pd.DataFrame(data=df[col].value_counts())\n",
    "    df_fd['pct_total'] = df_fd[col] / df_fd[col].sum()\n",
    "    print(df_fd)\n",
    "    \n",
    "# define module to convert individual values in to buckets, creating corresponding labels; \n",
    "# outputs frequency distribution module above\n",
    "def creat_bins(df, new_col, col, bins=[], labels=[]):\n",
    "    df[new_col] = pd.cut(\n",
    "    x=df[col], \n",
    "    bins=bins, \n",
    "    labels=labels)\n",
    "    freq_dist(df, new_col)"
   ]
  },
  {
   "cell_type": "code",
   "execution_count": 10,
   "metadata": {},
   "outputs": [
    {
     "name": "stdout",
     "output_type": "stream",
     "text": [
      "     HouseholdSize  pct_total\n",
      "1.0           2032   0.407051\n",
      "2.0           1466   0.293670\n",
      "3.0            552   0.110577\n",
      "4.0            520   0.104167\n",
      "5.0            287   0.057492\n",
      "6.0             97   0.019431\n",
      "7.0             29   0.005809\n",
      "8.0              7   0.001402\n",
      "9.0              2   0.000401\n"
     ]
    }
   ],
   "source": [
    "#create frequency distribution of variables: HouseholdSize\n",
    "freq_dist(df,'HouseholdSize')"
   ]
  },
  {
   "cell_type": "code",
   "execution_count": 11,
   "metadata": {},
   "outputs": [
    {
     "data": {
      "text/html": [
       "<div>\n",
       "<style scoped>\n",
       "    .dataframe tbody tr th:only-of-type {\n",
       "        vertical-align: middle;\n",
       "    }\n",
       "\n",
       "    .dataframe tbody tr th {\n",
       "        vertical-align: top;\n",
       "    }\n",
       "\n",
       "    .dataframe thead th {\n",
       "        text-align: right;\n",
       "    }\n",
       "</style>\n",
       "<table border=\"1\" class=\"dataframe\">\n",
       "  <thead>\n",
       "    <tr style=\"text-align: right;\">\n",
       "      <th></th>\n",
       "      <th></th>\n",
       "      <th>Gender</th>\n",
       "    </tr>\n",
       "    <tr>\n",
       "      <th>CarsOwned</th>\n",
       "      <th>Gender</th>\n",
       "      <th></th>\n",
       "    </tr>\n",
       "  </thead>\n",
       "  <tbody>\n",
       "    <tr>\n",
       "      <th rowspan=\"2\" valign=\"top\">0</th>\n",
       "      <th>Female</th>\n",
       "      <td>242</td>\n",
       "    </tr>\n",
       "    <tr>\n",
       "      <th>Male</th>\n",
       "      <td>253</td>\n",
       "    </tr>\n",
       "    <tr>\n",
       "      <th rowspan=\"2\" valign=\"top\">1</th>\n",
       "      <th>Female</th>\n",
       "      <td>551</td>\n",
       "    </tr>\n",
       "    <tr>\n",
       "      <th>Male</th>\n",
       "      <td>563</td>\n",
       "    </tr>\n",
       "    <tr>\n",
       "      <th rowspan=\"2\" valign=\"top\">2</th>\n",
       "      <th>Female</th>\n",
       "      <td>800</td>\n",
       "    </tr>\n",
       "    <tr>\n",
       "      <th>Male</th>\n",
       "      <td>796</td>\n",
       "    </tr>\n",
       "    <tr>\n",
       "      <th rowspan=\"2\" valign=\"top\">3</th>\n",
       "      <th>Female</th>\n",
       "      <td>555</td>\n",
       "    </tr>\n",
       "    <tr>\n",
       "      <th>Male</th>\n",
       "      <td>520</td>\n",
       "    </tr>\n",
       "    <tr>\n",
       "      <th rowspan=\"2\" valign=\"top\">4</th>\n",
       "      <th>Female</th>\n",
       "      <td>238</td>\n",
       "    </tr>\n",
       "    <tr>\n",
       "      <th>Male</th>\n",
       "      <td>239</td>\n",
       "    </tr>\n",
       "    <tr>\n",
       "      <th rowspan=\"2\" valign=\"top\">5</th>\n",
       "      <th>Female</th>\n",
       "      <td>77</td>\n",
       "    </tr>\n",
       "    <tr>\n",
       "      <th>Male</th>\n",
       "      <td>69</td>\n",
       "    </tr>\n",
       "    <tr>\n",
       "      <th rowspan=\"2\" valign=\"top\">6</th>\n",
       "      <th>Female</th>\n",
       "      <td>25</td>\n",
       "    </tr>\n",
       "    <tr>\n",
       "      <th>Male</th>\n",
       "      <td>26</td>\n",
       "    </tr>\n",
       "    <tr>\n",
       "      <th rowspan=\"2\" valign=\"top\">7</th>\n",
       "      <th>Female</th>\n",
       "      <td>6</td>\n",
       "    </tr>\n",
       "    <tr>\n",
       "      <th>Male</th>\n",
       "      <td>6</td>\n",
       "    </tr>\n",
       "    <tr>\n",
       "      <th>8</th>\n",
       "      <th>Male</th>\n",
       "      <td>1</td>\n",
       "    </tr>\n",
       "  </tbody>\n",
       "</table>\n",
       "</div>"
      ],
      "text/plain": [
       "                  Gender\n",
       "CarsOwned Gender        \n",
       "0         Female     242\n",
       "          Male       253\n",
       "1         Female     551\n",
       "          Male       563\n",
       "2         Female     800\n",
       "          Male       796\n",
       "3         Female     555\n",
       "          Male       520\n",
       "4         Female     238\n",
       "          Male       239\n",
       "5         Female      77\n",
       "          Male        69\n",
       "6         Female      25\n",
       "          Male        26\n",
       "7         Female       6\n",
       "          Male         6\n",
       "8         Male         1"
      ]
     },
     "execution_count": 11,
     "metadata": {},
     "output_type": "execute_result"
    }
   ],
   "source": [
    "df_gend_carsown = df.groupby(by=['CarsOwned', 'Gender',]).agg({'Gender':'count'})\n",
    "df_gend_carsown"
   ]
  },
  {
   "cell_type": "code",
   "execution_count": 12,
   "metadata": {},
   "outputs": [
    {
     "name": "stdout",
     "output_type": "stream",
     "text": [
      "                       EducationYears_group  pct_total\n",
      "11-15 years of school                  2465   0.493790\n",
      "16-19 years of school                  1597   0.319912\n",
      "6-10 years of school                    576   0.115385\n",
      "20-21 years of school                   317   0.063502\n",
      "22-23 years of school                    37   0.007412\n",
      "   educ_years_rec  pct_total\n",
      "2            2465   0.493790\n",
      "3            1597   0.319912\n",
      "1             576   0.115385\n",
      "4             317   0.063502\n",
      "5              37   0.007412\n"
     ]
    }
   ],
   "source": [
    "creat_bins('EducationYears_group', \n",
    "           'EducationYears', \n",
    "           bins=[6, 10, 15, 19, 21, 23], \n",
    "           labels=['6-10 years of school', '11-15 years of school',\n",
    "           '16-19 years of school', '20-21 years of school',\n",
    "           '22-23 years of school'])\n",
    "\n",
    "creat_bins('educ_years_rec', \n",
    "           'EducationYears', \n",
    "           bins=[6, 10, 15, 19, 21, 23], \n",
    "           labels=[1, 2, 3, 4, 5])"
   ]
  },
  {
   "cell_type": "code",
   "execution_count": 13,
   "metadata": {},
   "outputs": [
    {
     "name": "stdout",
     "output_type": "stream",
     "text": [
      "      NumberPets  pct_total\n",
      "0.0         1529   0.306167\n",
      "1.0          779   0.155987\n",
      "2.0          584   0.116940\n",
      "3.0          376   0.075290\n",
      "5.0          298   0.059672\n",
      "4.0          283   0.056668\n",
      "6.0          255   0.051061\n",
      "7.0          245   0.049059\n",
      "8.0          178   0.035643\n",
      "9.0          170   0.034041\n",
      "10.0         115   0.023028\n",
      "11.0          69   0.013817\n",
      "12.0          50   0.010012\n",
      "13.0          26   0.005206\n",
      "14.0          13   0.002603\n",
      "15.0          10   0.002002\n",
      "16.0           9   0.001802\n",
      "19.0           3   0.000601\n",
      "18.0           1   0.000200\n",
      "21.0           1   0.000200\n"
     ]
    }
   ],
   "source": [
    "#create frequency distribution of variables: NumberPets\n",
    "freq_dist(df,'NumberPets')"
   ]
  },
  {
   "cell_type": "code",
   "execution_count": 14,
   "metadata": {
    "scrolled": true
   },
   "outputs": [
    {
     "data": {
      "text/html": [
       "<div>\n",
       "<style scoped>\n",
       "    .dataframe tbody tr th:only-of-type {\n",
       "        vertical-align: middle;\n",
       "    }\n",
       "\n",
       "    .dataframe tbody tr th {\n",
       "        vertical-align: top;\n",
       "    }\n",
       "\n",
       "    .dataframe thead th {\n",
       "        text-align: right;\n",
       "    }\n",
       "</style>\n",
       "<table border=\"1\" class=\"dataframe\">\n",
       "  <thead>\n",
       "    <tr style=\"text-align: right;\">\n",
       "      <th></th>\n",
       "      <th>types</th>\n",
       "      <th>missing_count</th>\n",
       "      <th>missing_percent</th>\n",
       "      <th>unique_count</th>\n",
       "      <th>unique_rate</th>\n",
       "    </tr>\n",
       "  </thead>\n",
       "  <tbody>\n",
       "    <tr>\n",
       "      <th>CustomerID</th>\n",
       "      <td>object</td>\n",
       "      <td>0</td>\n",
       "      <td>0.00</td>\n",
       "      <td>5000.0</td>\n",
       "      <td>1.0000</td>\n",
       "    </tr>\n",
       "    <tr>\n",
       "      <th>Region</th>\n",
       "      <td>int64</td>\n",
       "      <td>0</td>\n",
       "      <td>0.00</td>\n",
       "      <td>NaN</td>\n",
       "      <td>NaN</td>\n",
       "    </tr>\n",
       "    <tr>\n",
       "      <th>TownSize</th>\n",
       "      <td>object</td>\n",
       "      <td>2</td>\n",
       "      <td>0.04</td>\n",
       "      <td>5.0</td>\n",
       "      <td>0.0010</td>\n",
       "    </tr>\n",
       "    <tr>\n",
       "      <th>Gender</th>\n",
       "      <td>object</td>\n",
       "      <td>33</td>\n",
       "      <td>0.66</td>\n",
       "      <td>2.0</td>\n",
       "      <td>0.0004</td>\n",
       "    </tr>\n",
       "    <tr>\n",
       "      <th>Age</th>\n",
       "      <td>int64</td>\n",
       "      <td>0</td>\n",
       "      <td>0.00</td>\n",
       "      <td>NaN</td>\n",
       "      <td>NaN</td>\n",
       "    </tr>\n",
       "    <tr>\n",
       "      <th>...</th>\n",
       "      <td>...</td>\n",
       "      <td>...</td>\n",
       "      <td>...</td>\n",
       "      <td>...</td>\n",
       "      <td>...</td>\n",
       "    </tr>\n",
       "    <tr>\n",
       "      <th>OwnsGameSystem</th>\n",
       "      <td>object</td>\n",
       "      <td>0</td>\n",
       "      <td>0.00</td>\n",
       "      <td>2.0</td>\n",
       "      <td>0.0004</td>\n",
       "    </tr>\n",
       "    <tr>\n",
       "      <th>OwnsFax</th>\n",
       "      <td>object</td>\n",
       "      <td>0</td>\n",
       "      <td>0.00</td>\n",
       "      <td>2.0</td>\n",
       "      <td>0.0004</td>\n",
       "    </tr>\n",
       "    <tr>\n",
       "      <th>NewsSubscriber</th>\n",
       "      <td>object</td>\n",
       "      <td>0</td>\n",
       "      <td>0.00</td>\n",
       "      <td>2.0</td>\n",
       "      <td>0.0004</td>\n",
       "    </tr>\n",
       "    <tr>\n",
       "      <th>EducationYears_group</th>\n",
       "      <td>category</td>\n",
       "      <td>8</td>\n",
       "      <td>0.16</td>\n",
       "      <td>5.0</td>\n",
       "      <td>0.0010</td>\n",
       "    </tr>\n",
       "    <tr>\n",
       "      <th>educ_years_rec</th>\n",
       "      <td>category</td>\n",
       "      <td>8</td>\n",
       "      <td>0.16</td>\n",
       "      <td>5.0</td>\n",
       "      <td>0.0010</td>\n",
       "    </tr>\n",
       "  </tbody>\n",
       "</table>\n",
       "<p>61 rows × 5 columns</p>\n",
       "</div>"
      ],
      "text/plain": [
       "                         types  missing_count  missing_percent  unique_count  \\\n",
       "CustomerID              object              0             0.00        5000.0   \n",
       "Region                   int64              0             0.00           NaN   \n",
       "TownSize                object              2             0.04           5.0   \n",
       "Gender                  object             33             0.66           2.0   \n",
       "Age                      int64              0             0.00           NaN   \n",
       "...                        ...            ...              ...           ...   \n",
       "OwnsGameSystem          object              0             0.00           2.0   \n",
       "OwnsFax                 object              0             0.00           2.0   \n",
       "NewsSubscriber          object              0             0.00           2.0   \n",
       "EducationYears_group  category              8             0.16           5.0   \n",
       "educ_years_rec        category              8             0.16           5.0   \n",
       "\n",
       "                      unique_rate  \n",
       "CustomerID                 1.0000  \n",
       "Region                        NaN  \n",
       "TownSize                   0.0010  \n",
       "Gender                     0.0004  \n",
       "Age                           NaN  \n",
       "...                           ...  \n",
       "OwnsGameSystem             0.0004  \n",
       "OwnsFax                    0.0004  \n",
       "NewsSubscriber             0.0004  \n",
       "EducationYears_group       0.0010  \n",
       "educ_years_rec             0.0010  \n",
       "\n",
       "[61 rows x 5 columns]"
      ]
     },
     "execution_count": 14,
     "metadata": {},
     "output_type": "execute_result"
    }
   ],
   "source": [
    "#Create Diag_customer_data_file\n",
    "diag = pd.DataFrame(df.describe(include=['float64','int64','object','datetime','category']).T)\n",
    "diag_dtypes = pd.DataFrame(df.dtypes, columns=['types'])\n",
    "diag = diag.join(diag_dtypes)\n",
    "diag['count'] = pd.to_numeric(diag['count'])\n",
    "diag['unique'] = pd.to_numeric(diag['unique'], errors='coerce')\n",
    "diag['missing_count'] = 5000 - diag['count']\n",
    "diag['missing_percent'] = diag['missing_count'] / 5000 *100\n",
    "diag['unique_count'] = diag['unique']\n",
    "diag['unique_rate'] = diag['unique_count'] / 5000\n",
    "diag = diag[['types', 'missing_count', 'missing_percent', 'unique_count', 'unique_rate']]\n",
    "diag"
   ]
  },
  {
   "cell_type": "code",
   "execution_count": 15,
   "metadata": {},
   "outputs": [
    {
     "data": {
      "text/html": [
       "<div>\n",
       "<style scoped>\n",
       "    .dataframe tbody tr th:only-of-type {\n",
       "        vertical-align: middle;\n",
       "    }\n",
       "\n",
       "    .dataframe tbody tr th {\n",
       "        vertical-align: top;\n",
       "    }\n",
       "\n",
       "    .dataframe thead th {\n",
       "        text-align: right;\n",
       "    }\n",
       "</style>\n",
       "<table border=\"1\" class=\"dataframe\">\n",
       "  <thead>\n",
       "    <tr style=\"text-align: right;\">\n",
       "      <th></th>\n",
       "      <th>types</th>\n",
       "      <th>missing_count</th>\n",
       "      <th>missing_percent</th>\n",
       "      <th>unique_count</th>\n",
       "      <th>unique_rate</th>\n",
       "    </tr>\n",
       "  </thead>\n",
       "  <tbody>\n",
       "    <tr>\n",
       "      <th>TownSize</th>\n",
       "      <td>object</td>\n",
       "      <td>2</td>\n",
       "      <td>0.04</td>\n",
       "      <td>5.0</td>\n",
       "      <td>0.0010</td>\n",
       "    </tr>\n",
       "    <tr>\n",
       "      <th>Gender</th>\n",
       "      <td>object</td>\n",
       "      <td>33</td>\n",
       "      <td>0.66</td>\n",
       "      <td>2.0</td>\n",
       "      <td>0.0004</td>\n",
       "    </tr>\n",
       "    <tr>\n",
       "      <th>JobCategory</th>\n",
       "      <td>object</td>\n",
       "      <td>15</td>\n",
       "      <td>0.30</td>\n",
       "      <td>6.0</td>\n",
       "      <td>0.0012</td>\n",
       "    </tr>\n",
       "    <tr>\n",
       "      <th>HouseholdSize</th>\n",
       "      <td>float64</td>\n",
       "      <td>8</td>\n",
       "      <td>0.16</td>\n",
       "      <td>NaN</td>\n",
       "      <td>NaN</td>\n",
       "    </tr>\n",
       "    <tr>\n",
       "      <th>NumberPets</th>\n",
       "      <td>float64</td>\n",
       "      <td>6</td>\n",
       "      <td>0.12</td>\n",
       "      <td>NaN</td>\n",
       "      <td>NaN</td>\n",
       "    </tr>\n",
       "    <tr>\n",
       "      <th>NumberCats</th>\n",
       "      <td>float64</td>\n",
       "      <td>7</td>\n",
       "      <td>0.14</td>\n",
       "      <td>NaN</td>\n",
       "      <td>NaN</td>\n",
       "    </tr>\n",
       "    <tr>\n",
       "      <th>NumberDogs</th>\n",
       "      <td>float64</td>\n",
       "      <td>8</td>\n",
       "      <td>0.16</td>\n",
       "      <td>NaN</td>\n",
       "      <td>NaN</td>\n",
       "    </tr>\n",
       "    <tr>\n",
       "      <th>NumberBirds</th>\n",
       "      <td>float64</td>\n",
       "      <td>34</td>\n",
       "      <td>0.68</td>\n",
       "      <td>NaN</td>\n",
       "      <td>NaN</td>\n",
       "    </tr>\n",
       "    <tr>\n",
       "      <th>HomeOwner</th>\n",
       "      <td>float64</td>\n",
       "      <td>13</td>\n",
       "      <td>0.26</td>\n",
       "      <td>NaN</td>\n",
       "      <td>NaN</td>\n",
       "    </tr>\n",
       "    <tr>\n",
       "      <th>CommuteTime</th>\n",
       "      <td>object</td>\n",
       "      <td>2</td>\n",
       "      <td>0.04</td>\n",
       "      <td>41.0</td>\n",
       "      <td>0.0082</td>\n",
       "    </tr>\n",
       "    <tr>\n",
       "      <th>EducationYears_group</th>\n",
       "      <td>category</td>\n",
       "      <td>8</td>\n",
       "      <td>0.16</td>\n",
       "      <td>5.0</td>\n",
       "      <td>0.0010</td>\n",
       "    </tr>\n",
       "    <tr>\n",
       "      <th>educ_years_rec</th>\n",
       "      <td>category</td>\n",
       "      <td>8</td>\n",
       "      <td>0.16</td>\n",
       "      <td>5.0</td>\n",
       "      <td>0.0010</td>\n",
       "    </tr>\n",
       "  </tbody>\n",
       "</table>\n",
       "</div>"
      ],
      "text/plain": [
       "                         types  missing_count  missing_percent  unique_count  \\\n",
       "TownSize                object              2             0.04           5.0   \n",
       "Gender                  object             33             0.66           2.0   \n",
       "JobCategory             object             15             0.30           6.0   \n",
       "HouseholdSize          float64              8             0.16           NaN   \n",
       "NumberPets             float64              6             0.12           NaN   \n",
       "NumberCats             float64              7             0.14           NaN   \n",
       "NumberDogs             float64              8             0.16           NaN   \n",
       "NumberBirds            float64             34             0.68           NaN   \n",
       "HomeOwner              float64             13             0.26           NaN   \n",
       "CommuteTime             object              2             0.04          41.0   \n",
       "EducationYears_group  category              8             0.16           5.0   \n",
       "educ_years_rec        category              8             0.16           5.0   \n",
       "\n",
       "                      unique_rate  \n",
       "TownSize                   0.0010  \n",
       "Gender                     0.0004  \n",
       "JobCategory                0.0012  \n",
       "HouseholdSize                 NaN  \n",
       "NumberPets                    NaN  \n",
       "NumberCats                    NaN  \n",
       "NumberDogs                    NaN  \n",
       "NumberBirds                   NaN  \n",
       "HomeOwner                     NaN  \n",
       "CommuteTime                0.0082  \n",
       "EducationYears_group       0.0010  \n",
       "educ_years_rec             0.0010  "
      ]
     },
     "execution_count": 15,
     "metadata": {},
     "output_type": "execute_result"
    }
   ],
   "source": [
    "#Based on the output from the diagnose() work, here are some columns that have missing values:\n",
    "diag.loc[diag['missing_count'] > 0]"
   ]
  },
  {
   "cell_type": "code",
   "execution_count": 16,
   "metadata": {},
   "outputs": [],
   "source": [
    "#Convert values to numerics: Make note to review rows mistakenly labeled as 'object'\n",
    "df['CommuteTime'] = pd.to_numeric(df['CommuteTime'], errors='coerce')\n",
    "df['educ_years_rec'] = pd.to_numeric(df['educ_years_rec'], errors='coerce')\n",
    "df['TownSize'] = pd.to_numeric(df['TownSize'], errors='coerce')\n",
    "# df.TownSize.fillna(df.TownSize.mean(), inplace=True)\n",
    "# df['TownSize'] = df['TownSize'].astype(int)\n",
    "# df.LoanDefault.unique()"
   ]
  },
  {
   "cell_type": "code",
   "execution_count": 17,
   "metadata": {},
   "outputs": [
    {
     "name": "stdout",
     "output_type": "stream",
     "text": [
      "Index(['Region', 'TownSize', 'Age', 'EducationYears', 'EmploymentLength',\n",
      "       'DebtToIncomeRatio', 'CreditDebt', 'OtherDebt', 'HouseholdSize',\n",
      "       'NumberPets', 'NumberCats', 'NumberDogs', 'NumberBirds', 'HomeOwner',\n",
      "       'CarsOwned', 'CommuteTime', 'CardTenure', 'CardItemsMonthly',\n",
      "       'PhoneCoTenure', 'TVWatchingHours', 'educ_years_rec'],\n",
      "      dtype='object') \n",
      "\n",
      "(5000, 21)\n"
     ]
    }
   ],
   "source": [
    "#Selecting only numeric columns\n",
    "numerics = ['int16', 'int32', 'int64', 'float16', 'float32', 'float64', 'int']\n",
    "num_cols = df.select_dtypes(include=numerics)\n",
    "print(num_cols.columns, '\\n')\n",
    "print(num_cols.shape)"
   ]
  },
  {
   "cell_type": "code",
   "execution_count": 18,
   "metadata": {},
   "outputs": [
    {
     "name": "stdout",
     "output_type": "stream",
     "text": [
      "          HouseholdSize  pct_total\n",
      "1.000000           2032     0.4064\n",
      "2.000000           1466     0.2932\n",
      "3.000000            552     0.1104\n",
      "4.000000            520     0.1040\n",
      "5.000000            287     0.0574\n",
      "6.000000             97     0.0194\n",
      "7.000000             29     0.0058\n",
      "2.202324              8     0.0016\n",
      "8.000000              7     0.0014\n",
      "9.000000              2     0.0004\n"
     ]
    }
   ],
   "source": [
    "#Replacing missing values with means: TownSize\n",
    "# df['TownSize'] = pd.to_numeric(df['TownSize'], errors='coerce')\n",
    "# df.TownSize.fillna(df.TownSize.mean(), inplace=True)\n",
    "# df['TownSize'] = df['TownSize'].astype(int)\n",
    "# df.TownSize.unique()\n",
    "\n",
    "#Replacing missing values with means: HouseholdSize\n",
    "df.HouseholdSize.fillna(df.HouseholdSize.mean(), inplace=True)\n",
    "# df['HouseholdSize'] = df['HouseholdSize'].astype(int)\n",
    "freq_dist(df, 'HouseholdSize')"
   ]
  },
  {
   "cell_type": "code",
   "execution_count": 19,
   "metadata": {},
   "outputs": [
    {
     "name": "stdout",
     "output_type": "stream",
     "text": [
      "     LoanDefault  pct_total\n",
      "No          3829     0.7658\n",
      "Yes         1171     0.2342\n"
     ]
    }
   ],
   "source": [
    "freq_dist(df, 'LoanDefault')"
   ]
  },
  {
   "cell_type": "code",
   "execution_count": 20,
   "metadata": {},
   "outputs": [
    {
     "name": "stdout",
     "output_type": "stream",
     "text": [
      "     HomeOwner  pct_total\n",
      "1.0       3140   0.629637\n",
      "0.0       1847   0.370363\n"
     ]
    }
   ],
   "source": [
    "freq_dist(df, 'HomeOwner')"
   ]
  },
  {
   "cell_type": "code",
   "execution_count": 21,
   "metadata": {
    "scrolled": true
   },
   "outputs": [
    {
     "name": "stdout",
     "output_type": "stream",
     "text": [
      "          NumberPets  pct_total\n",
      "0.00000         1529     0.3058\n",
      "1.00000          779     0.1558\n",
      "2.00000          584     0.1168\n",
      "3.00000          376     0.0752\n",
      "5.00000          298     0.0596\n",
      "4.00000          283     0.0566\n",
      "6.00000          255     0.0510\n",
      "7.00000          245     0.0490\n",
      "8.00000          178     0.0356\n",
      "9.00000          170     0.0340\n",
      "10.00000         115     0.0230\n",
      "11.00000          69     0.0138\n",
      "12.00000          50     0.0100\n",
      "13.00000          26     0.0052\n",
      "14.00000          13     0.0026\n",
      "15.00000          10     0.0020\n",
      "16.00000           9     0.0018\n",
      "3.06668            6     0.0012\n",
      "19.00000           3     0.0006\n",
      "18.00000           1     0.0002\n",
      "21.00000           1     0.0002\n",
      "None \n",
      "\n",
      "        NumberCats  pct_total\n",
      "0.0000        3408     0.6816\n",
      "1.0000         922     0.1844\n",
      "2.0000         463     0.0926\n",
      "3.0000         159     0.0318\n",
      "4.0000          34     0.0068\n",
      "0.5003           7     0.0014\n",
      "5.0000           5     0.0010\n",
      "6.0000           2     0.0004\n",
      "None \n",
      "\n",
      "          NumberDogs  pct_total\n",
      "0.000000        3755     0.7510\n",
      "1.000000         719     0.1438\n",
      "2.000000         360     0.0720\n",
      "3.000000         117     0.0234\n",
      "4.000000          36     0.0072\n",
      "0.392829           8     0.0016\n",
      "5.000000           4     0.0008\n",
      "7.000000           1     0.0002\n",
      "None \n",
      "\n",
      "          NumberBirds  pct_total\n",
      "0.000000         4664     0.9328\n",
      "1.000000          144     0.0288\n",
      "2.000000           88     0.0176\n",
      "3.000000           49     0.0098\n",
      "0.111156           34     0.0068\n",
      "4.000000           20     0.0040\n",
      "5.000000            1     0.0002\n",
      "None \n",
      "\n"
     ]
    }
   ],
   "source": [
    "#Replacing missing values with means: NumberPets, NumberCats, NumberDogs, NumberBirds\n",
    "df.NumberPets.fillna(df.NumberPets.mean(), inplace=True)\n",
    "print(freq_dist(df,'NumberPets'), '\\n')\n",
    "df.NumberCats.fillna(df.NumberCats.mean(), inplace=True)\n",
    "print(freq_dist(df,'NumberCats'), '\\n')\n",
    "df.NumberDogs.fillna(df.NumberDogs.mean(), inplace=True)\n",
    "print(freq_dist(df,'NumberDogs'), '\\n')\n",
    "df.NumberBirds.fillna(df.NumberBirds.mean(), inplace=True)\n",
    "print(freq_dist(df,'NumberBirds'), '\\n')"
   ]
  },
  {
   "cell_type": "code",
   "execution_count": 22,
   "metadata": {},
   "outputs": [
    {
     "data": {
      "text/plain": [
       "9.954160000000028"
      ]
     },
     "execution_count": 22,
     "metadata": {},
     "output_type": "execute_result"
    }
   ],
   "source": [
    "df.DebtToIncomeRatio.mean()"
   ]
  },
  {
   "cell_type": "code",
   "execution_count": 23,
   "metadata": {},
   "outputs": [
    {
     "name": "stdout",
     "output_type": "stream",
     "text": [
      "float64 \n",
      "\n",
      "HHIncome_2 mean: 54759.6 \n",
      "\n",
      "          HHIncome_2  pct_total\n",
      "22000.0          112     0.0224\n",
      "29000.0          109     0.0218\n",
      "25000.0          108     0.0216\n",
      "30000.0          102     0.0204\n",
      "20000.0          102     0.0204\n",
      "...              ...        ...\n",
      "409000.0           1     0.0002\n",
      "360000.0           1     0.0002\n",
      "227000.0           1     0.0002\n",
      "327000.0           1     0.0002\n",
      "188000.0           1     0.0002\n",
      "\n",
      "[266 rows x 2 columns]\n"
     ]
    }
   ],
   "source": [
    "#HHIncome has a $ sign and a comma and therefore needs to be converted to a numeric vector\n",
    "#Create a new variable \n",
    "df['HHIncome_2'] = df['HHIncome'].str.replace(',', '')\n",
    "df['HHIncome_2'] = df['HHIncome_2'].str.replace('$', '')\n",
    "df['HHIncome_2'] = df['HHIncome_2'].str.replace(' ', '')\n",
    "df['HHIncome_2'] = df['HHIncome_2'].astype(float)\n",
    "df['HHIncome_2'] = df['HHIncome_2'].replace('.0', '')\n",
    "df['HHIncome2'] = df['HHIncome_2'].astype(int)\n",
    "\n",
    "print(df.HHIncome_2.dtypes, '\\n')\n",
    "\n",
    "print('HHIncome_2 mean:',df.HHIncome_2.mean(), '\\n')\n",
    "\n",
    "freq_dist(df, 'HHIncome_2')\n"
   ]
  },
  {
   "cell_type": "code",
   "execution_count": 24,
   "metadata": {},
   "outputs": [
    {
     "name": "stdout",
     "output_type": "stream",
     "text": [
      "   HHIncome_rec  pct_total\n",
      "2          1835     0.3670\n",
      "1          1330     0.2660\n",
      "3           818     0.1636\n",
      "4           436     0.0872\n",
      "5           345     0.0690\n",
      "6           236     0.0472\n"
     ]
    }
   ],
   "source": [
    "#Recode HHIncome into a 6 level variable\n",
    "\n",
    "creat_bins('HHIncome_rec', \n",
    "           'HHIncome_2', \n",
    "           bins=[0, 24000, 50000, 75000, 100000, 150001, 10000000], \n",
    "           labels=[1, 2, 3, 4, 5, 6])\n"
   ]
  },
  {
   "cell_type": "code",
   "execution_count": 25,
   "metadata": {},
   "outputs": [
    {
     "name": "stdout",
     "output_type": "stream",
     "text": [
      "      DebtToIncomeRatio  pct_total\n",
      "7.0                  48     0.0096\n",
      "4.1                  46     0.0092\n",
      "6.9                  46     0.0092\n",
      "5.4                  45     0.0090\n",
      "6.6                  42     0.0084\n",
      "...                 ...        ...\n",
      "26.9                  1     0.0002\n",
      "33.3                  1     0.0002\n",
      "31.6                  1     0.0002\n",
      "30.7                  1     0.0002\n",
      "36.4                  1     0.0002\n",
      "\n",
      "[325 rows x 2 columns]\n",
      "None\n",
      "      DebtToIncomeRatio  pct_total\n",
      "22.1                  9   0.023136\n",
      "21.0                  9   0.023136\n",
      "20.4                  9   0.023136\n",
      "21.3                  9   0.023136\n",
      "20.9                  9   0.023136\n",
      "...                 ...        ...\n",
      "34.1                  1   0.002571\n",
      "38.2                  1   0.002571\n",
      "24.0                  1   0.002571\n",
      "30.0                  1   0.002571\n",
      "32.7                  1   0.002571\n",
      "\n",
      "[124 rows x 2 columns]\n",
      "None\n"
     ]
    }
   ],
   "source": [
    "df.DebtToIncomeRatio.replace(np.NaN,0, inplace=True)\n",
    "print(freq_dist(df,'DebtToIncomeRatio'))\n",
    "#Displays only the highest debt to income ratios > 20\n",
    "df_debt_inc_above_10 = df[(df.DebtToIncomeRatio > 20)]\n",
    "print(freq_dist(df_debt_inc_above_10,'DebtToIncomeRatio'))"
   ]
  },
  {
   "cell_type": "code",
   "execution_count": 26,
   "metadata": {},
   "outputs": [
    {
     "name": "stdout",
     "output_type": "stream",
     "text": [
      "     LoanDefault  pct_total\n",
      "No          3829     0.7658\n",
      "Yes         1171     0.2342\n",
      "   LoanDefault_num  pct_total\n",
      "1             3829     0.7658\n",
      "2             1171     0.2342\n"
     ]
    }
   ],
   "source": [
    "freq_dist(df,'LoanDefault')\n",
    "df['LoanDefault_num'] = df.LoanDefault.replace(['No', 'Yes'], [1, 2])\n",
    "freq_dist(df,'LoanDefault_num')"
   ]
  },
  {
   "cell_type": "code",
   "execution_count": 27,
   "metadata": {},
   "outputs": [],
   "source": [
    "# df_Loandef_Debttoincome = pd.DataFrame(df['LoanDefault'].value_counts())\n",
    "# df_Loandef_Debttoincome['pct_total'] = df_Loandef_Debttoincome['LoanDefault'] / df_Loandef_Debttoincome['LoanDefault'].sum()\n",
    "# df_Loandef_Debttoincome = df_Loandef_Debttoincome.join()"
   ]
  },
  {
   "cell_type": "code",
   "execution_count": 28,
   "metadata": {},
   "outputs": [
    {
     "name": "stdout",
     "output_type": "stream",
     "text": [
      "     HomeOwner  pct_total\n",
      "1.0       3140      0.628\n",
      "0.0       1860      0.372\n"
     ]
    }
   ],
   "source": [
    "df.HomeOwner.replace(np.NaN,0, inplace=True)\n",
    "freq_dist(df,'HomeOwner')"
   ]
  },
  {
   "cell_type": "code",
   "execution_count": 29,
   "metadata": {},
   "outputs": [
    {
     "data": {
      "text/plain": [
       "Female    2494\n",
       "Male      2473\n",
       "NaN         33\n",
       "Name: Gender, dtype: int64"
      ]
     },
     "execution_count": 29,
     "metadata": {},
     "output_type": "execute_result"
    }
   ],
   "source": [
    "df.Gender.value_counts(dropna=False)"
   ]
  },
  {
   "cell_type": "code",
   "execution_count": 30,
   "metadata": {},
   "outputs": [
    {
     "name": "stdout",
     "output_type": "stream",
     "text": [
      "   Gender_num  pct_total\n",
      "1        2527     0.5054\n",
      "2        2473     0.4946\n"
     ]
    }
   ],
   "source": [
    "#Recoding the missing values of Gender to Female\n",
    "#Convert all missing values for gender to female - arbitrary decision\n",
    "df['Gender'] = df.Gender.replace(np.NaN,'Female')\n",
    "df['Gender_num'] = df.Gender.replace(['Male', 'Female'], [2, 1])\n",
    "freq_dist(df,'Gender_num')"
   ]
  },
  {
   "cell_type": "code",
   "execution_count": 31,
   "metadata": {},
   "outputs": [],
   "source": [
    "#Variables for conducting  a segmentation with K Mean\n",
    "# EducationYears\n",
    "# EmploymentLength\n",
    "# HHIncome_rec\n",
    "# DebtToIncomeRatio\n",
    "# LoanDefault_num\n",
    "# HouseholdSize\n",
    "# HomeOwner\n",
    "# CardTenure\n",
    "# Gender_num\n",
    "\n",
    "#Creating a new debt to income ratio variable by multiplying by 10 to facilitate \n",
    "#bucketing since the right hand side vector must match the left hand side vector"
   ]
  },
  {
   "cell_type": "code",
   "execution_count": 32,
   "metadata": {},
   "outputs": [],
   "source": [
    "df['DebtToIncomeRatio_2'] = df['DebtToIncomeRatio']*10"
   ]
  },
  {
   "cell_type": "code",
   "execution_count": 33,
   "metadata": {},
   "outputs": [
    {
     "name": "stdout",
     "output_type": "stream",
     "text": [
      "   DebtToIncomeRatio_rec  pct_total\n",
      "7                   1343   0.268654\n",
      "6                    780   0.156031\n",
      "3                    727   0.145429\n",
      "4                    690   0.138028\n",
      "5                    602   0.120424\n",
      "2                    570   0.114023\n",
      "1                    287   0.057411\n",
      "   DebtToIncomeRatio_rec  pct_total\n",
      "7                   1343     0.2686\n",
      "6                    780     0.1560\n",
      "3                    727     0.1454\n",
      "4                    690     0.1380\n",
      "5                    602     0.1204\n",
      "2                    570     0.1140\n",
      "1                    288     0.0576\n"
     ]
    }
   ],
   "source": [
    "#Recode DebtToIncomeRatio_2 into a 7 level variable: DebtToIncomeRatio_2\n",
    "\n",
    "creat_bins('DebtToIncomeRatio_rec', \n",
    "           'DebtToIncomeRatio_2', \n",
    "           bins=[0.0, 20, 40, 60, 80, 100, 130, 1000000], \n",
    "           labels=[1, 2, 3, 4, 5, 6, 7])\n",
    "\n",
    "df.DebtToIncomeRatio_rec.replace(np.NaN,1, inplace=True)\n",
    "freq_dist(df, 'DebtToIncomeRatio_rec')"
   ]
  },
  {
   "cell_type": "code",
   "execution_count": 34,
   "metadata": {},
   "outputs": [
    {
     "name": "stdout",
     "output_type": "stream",
     "text": [
      "     DebtToIncomeRatio_rec3  pct_total\n",
      "7.0                    1343   0.268654\n",
      "6.0                     780   0.156031\n",
      "3.0                     727   0.145429\n",
      "4.0                     690   0.138028\n",
      "5.0                     602   0.120424\n",
      "2.0                     570   0.114023\n",
      "1.0                     287   0.057411\n",
      "     DebtToIncomeRatio_rec3  pct_total\n",
      "7.0                    1343     0.2686\n",
      "6.0                     780     0.1560\n",
      "3.0                     727     0.1454\n",
      "4.0                     690     0.1380\n",
      "5.0                     602     0.1204\n",
      "2.0                     570     0.1140\n",
      "1.0                     288     0.0576\n"
     ]
    }
   ],
   "source": [
    "#Recode DebtToIncomeRatio into a 7 level variable: DebtToIncomeRatio_rec3\n",
    "\n",
    "creat_bins('DebtToIncomeRatio_rec3', \n",
    "           'DebtToIncomeRatio', \n",
    "           bins=[0.0, 2.09, 4.09, 6.09, 8.09, 10.09, 13.0, 1000000], \n",
    "           labels=[1.0, 2.0, 3.0, 4.0, 5.0, 6.0, 7.0])\n",
    "\n",
    "df.DebtToIncomeRatio_rec3.replace(np.NaN,1, inplace=True)\n",
    "freq_dist(df, 'DebtToIncomeRatio_rec3')"
   ]
  },
  {
   "cell_type": "code",
   "execution_count": 35,
   "metadata": {},
   "outputs": [
    {
     "name": "stdout",
     "output_type": "stream",
     "text": [
      "   DebtToIncomeRatio_rec2  pct_total\n",
      "G                    1343   0.268654\n",
      "F                     780   0.156031\n",
      "C                     727   0.145429\n",
      "D                     690   0.138028\n",
      "E                     602   0.120424\n",
      "B                     570   0.114023\n",
      "A                     287   0.057411\n",
      "   DebtToIncomeRatio_rec2  pct_total\n",
      "G                    1343     0.2686\n",
      "F                     780     0.1560\n",
      "C                     727     0.1454\n",
      "D                     690     0.1380\n",
      "E                     602     0.1204\n",
      "B                     570     0.1140\n",
      "A                     288     0.0576\n"
     ]
    }
   ],
   "source": [
    "#Recode DebtToIncomeRatio_2 into a 7 level variable: DebtToIncomeRatio_2\n",
    "\n",
    "creat_bins('DebtToIncomeRatio_rec2', \n",
    "           'DebtToIncomeRatio_2', \n",
    "           bins=[0, 20, 40, 60, 80, 100, 130, 1000000], \n",
    "           labels=['A','B','C','D','E','F','G'])\n",
    "\n",
    "df.DebtToIncomeRatio_rec2.replace(np.NaN,'A', inplace=True)\n",
    "freq_dist(df, 'DebtToIncomeRatio_rec2')"
   ]
  },
  {
   "cell_type": "code",
   "execution_count": 36,
   "metadata": {},
   "outputs": [
    {
     "data": {
      "text/plain": [
       "['TownSize',\n",
       " 'JobCategory',\n",
       " 'CommuteTime',\n",
       " 'EducationYears_group',\n",
       " 'educ_years_rec']"
      ]
     },
     "execution_count": 36,
     "metadata": {},
     "output_type": "execute_result"
    }
   ],
   "source": [
    "#Highlight what columns have missing values\n",
    "[col for col in df.columns if df[col].isnull().any()]"
   ]
  },
  {
   "cell_type": "code",
   "execution_count": 37,
   "metadata": {},
   "outputs": [
    {
     "name": "stdout",
     "output_type": "stream",
     "text": [
      "Index(['EducationYears', 'EmploymentLength', 'HHIncome_2', 'DebtToIncomeRatio',\n",
      "       'LoanDefault_num', 'HouseholdSize', 'HomeOwner', 'CardTenure',\n",
      "       'Gender_num'],\n",
      "      dtype='object') \n",
      "\n",
      "(5000, 9)\n"
     ]
    },
    {
     "name": "stderr",
     "output_type": "stream",
     "text": [
      "C:\\Users\\mdpur\\Anaconda3\\lib\\site-packages\\pandas\\core\\frame.py:3509: SettingWithCopyWarning: \n",
      "A value is trying to be set on a copy of a slice from a DataFrame.\n",
      "Try using .loc[row_indexer,col_indexer] = value instead\n",
      "\n",
      "See the caveats in the documentation: http://pandas.pydata.org/pandas-docs/stable/user_guide/indexing.html#returning-a-view-versus-a-copy\n",
      "  self[k1] = value[k2]\n"
     ]
    }
   ],
   "source": [
    "df_num = df[[\"EducationYears\",\"EmploymentLength\",\"HHIncome_2\",\"DebtToIncomeRatio\",\n",
    "             \"LoanDefault_num\",\"HouseholdSize\",\"HomeOwner\",\"CardTenure\",\"Gender_num\"]]\n",
    "\n",
    "#Converts all columns to numeric\n",
    "cols= df_num.columns\n",
    "df_num[cols] = df_num[cols].apply(pd.to_numeric, errors='coerce')\n",
    "\n",
    "#Selecting only numeric columns to confirm above\n",
    "numerics = ['int16', 'int32', 'int64', 'float16', 'float32', 'float64', 'int']\n",
    "num_cols = df_num.select_dtypes(include=numerics)\n",
    "print(num_cols.columns, '\\n')\n",
    "print(num_cols.shape)"
   ]
  },
  {
   "cell_type": "code",
   "execution_count": 38,
   "metadata": {},
   "outputs": [
    {
     "data": {
      "text/html": [
       "<div>\n",
       "<style scoped>\n",
       "    .dataframe tbody tr th:only-of-type {\n",
       "        vertical-align: middle;\n",
       "    }\n",
       "\n",
       "    .dataframe tbody tr th {\n",
       "        vertical-align: top;\n",
       "    }\n",
       "\n",
       "    .dataframe thead th {\n",
       "        text-align: right;\n",
       "    }\n",
       "</style>\n",
       "<table border=\"1\" class=\"dataframe\">\n",
       "  <thead>\n",
       "    <tr style=\"text-align: right;\">\n",
       "      <th></th>\n",
       "      <th>EducationYears</th>\n",
       "      <th>EmploymentLength</th>\n",
       "      <th>HHIncome_2</th>\n",
       "      <th>DebtToIncomeRatio</th>\n",
       "      <th>LoanDefault_num</th>\n",
       "      <th>HouseholdSize</th>\n",
       "      <th>HomeOwner</th>\n",
       "      <th>CardTenure</th>\n",
       "      <th>Gender_num</th>\n",
       "    </tr>\n",
       "  </thead>\n",
       "  <tbody>\n",
       "    <tr>\n",
       "      <th>0</th>\n",
       "      <td>15</td>\n",
       "      <td>0</td>\n",
       "      <td>31000.0</td>\n",
       "      <td>11.1</td>\n",
       "      <td>2</td>\n",
       "      <td>3.0</td>\n",
       "      <td>0.0</td>\n",
       "      <td>2</td>\n",
       "      <td>1</td>\n",
       "    </tr>\n",
       "    <tr>\n",
       "      <th>1</th>\n",
       "      <td>17</td>\n",
       "      <td>0</td>\n",
       "      <td>15000.0</td>\n",
       "      <td>18.6</td>\n",
       "      <td>2</td>\n",
       "      <td>2.0</td>\n",
       "      <td>1.0</td>\n",
       "      <td>4</td>\n",
       "      <td>2</td>\n",
       "    </tr>\n",
       "    <tr>\n",
       "      <th>2</th>\n",
       "      <td>14</td>\n",
       "      <td>16</td>\n",
       "      <td>35000.0</td>\n",
       "      <td>9.9</td>\n",
       "      <td>1</td>\n",
       "      <td>3.0</td>\n",
       "      <td>1.0</td>\n",
       "      <td>35</td>\n",
       "      <td>1</td>\n",
       "    </tr>\n",
       "    <tr>\n",
       "      <th>3</th>\n",
       "      <td>16</td>\n",
       "      <td>0</td>\n",
       "      <td>20000.0</td>\n",
       "      <td>5.7</td>\n",
       "      <td>2</td>\n",
       "      <td>5.0</td>\n",
       "      <td>1.0</td>\n",
       "      <td>5</td>\n",
       "      <td>2</td>\n",
       "    </tr>\n",
       "    <tr>\n",
       "      <th>4</th>\n",
       "      <td>16</td>\n",
       "      <td>1</td>\n",
       "      <td>23000.0</td>\n",
       "      <td>1.7</td>\n",
       "      <td>1</td>\n",
       "      <td>4.0</td>\n",
       "      <td>0.0</td>\n",
       "      <td>8</td>\n",
       "      <td>2</td>\n",
       "    </tr>\n",
       "    <tr>\n",
       "      <th>...</th>\n",
       "      <td>...</td>\n",
       "      <td>...</td>\n",
       "      <td>...</td>\n",
       "      <td>...</td>\n",
       "      <td>...</td>\n",
       "      <td>...</td>\n",
       "      <td>...</td>\n",
       "      <td>...</td>\n",
       "      <td>...</td>\n",
       "    </tr>\n",
       "    <tr>\n",
       "      <th>4995</th>\n",
       "      <td>10</td>\n",
       "      <td>24</td>\n",
       "      <td>196000.0</td>\n",
       "      <td>8.0</td>\n",
       "      <td>1</td>\n",
       "      <td>1.0</td>\n",
       "      <td>1.0</td>\n",
       "      <td>35</td>\n",
       "      <td>2</td>\n",
       "    </tr>\n",
       "    <tr>\n",
       "      <th>4996</th>\n",
       "      <td>14</td>\n",
       "      <td>6</td>\n",
       "      <td>83000.0</td>\n",
       "      <td>15.0</td>\n",
       "      <td>2</td>\n",
       "      <td>1.0</td>\n",
       "      <td>1.0</td>\n",
       "      <td>15</td>\n",
       "      <td>2</td>\n",
       "    </tr>\n",
       "    <tr>\n",
       "      <th>4997</th>\n",
       "      <td>17</td>\n",
       "      <td>24</td>\n",
       "      <td>108000.0</td>\n",
       "      <td>10.8</td>\n",
       "      <td>1</td>\n",
       "      <td>1.0</td>\n",
       "      <td>1.0</td>\n",
       "      <td>40</td>\n",
       "      <td>2</td>\n",
       "    </tr>\n",
       "    <tr>\n",
       "      <th>4998</th>\n",
       "      <td>19</td>\n",
       "      <td>3</td>\n",
       "      <td>189000.0</td>\n",
       "      <td>10.8</td>\n",
       "      <td>2</td>\n",
       "      <td>4.0</td>\n",
       "      <td>1.0</td>\n",
       "      <td>22</td>\n",
       "      <td>2</td>\n",
       "    </tr>\n",
       "    <tr>\n",
       "      <th>4999</th>\n",
       "      <td>10</td>\n",
       "      <td>20</td>\n",
       "      <td>77000.0</td>\n",
       "      <td>6.2</td>\n",
       "      <td>1</td>\n",
       "      <td>2.0</td>\n",
       "      <td>1.0</td>\n",
       "      <td>16</td>\n",
       "      <td>1</td>\n",
       "    </tr>\n",
       "  </tbody>\n",
       "</table>\n",
       "<p>5000 rows × 9 columns</p>\n",
       "</div>"
      ],
      "text/plain": [
       "      EducationYears  EmploymentLength  HHIncome_2  DebtToIncomeRatio  \\\n",
       "0                 15                 0     31000.0               11.1   \n",
       "1                 17                 0     15000.0               18.6   \n",
       "2                 14                16     35000.0                9.9   \n",
       "3                 16                 0     20000.0                5.7   \n",
       "4                 16                 1     23000.0                1.7   \n",
       "...              ...               ...         ...                ...   \n",
       "4995              10                24    196000.0                8.0   \n",
       "4996              14                 6     83000.0               15.0   \n",
       "4997              17                24    108000.0               10.8   \n",
       "4998              19                 3    189000.0               10.8   \n",
       "4999              10                20     77000.0                6.2   \n",
       "\n",
       "      LoanDefault_num  HouseholdSize  HomeOwner  CardTenure  Gender_num  \n",
       "0                   2            3.0        0.0           2           1  \n",
       "1                   2            2.0        1.0           4           2  \n",
       "2                   1            3.0        1.0          35           1  \n",
       "3                   2            5.0        1.0           5           2  \n",
       "4                   1            4.0        0.0           8           2  \n",
       "...               ...            ...        ...         ...         ...  \n",
       "4995                1            1.0        1.0          35           2  \n",
       "4996                2            1.0        1.0          15           2  \n",
       "4997                1            1.0        1.0          40           2  \n",
       "4998                2            4.0        1.0          22           2  \n",
       "4999                1            2.0        1.0          16           1  \n",
       "\n",
       "[5000 rows x 9 columns]"
      ]
     },
     "execution_count": 38,
     "metadata": {},
     "output_type": "execute_result"
    }
   ],
   "source": [
    "df_num"
   ]
  },
  {
   "cell_type": "code",
   "execution_count": 39,
   "metadata": {},
   "outputs": [
    {
     "data": {
      "text/html": [
       "<div>\n",
       "<style scoped>\n",
       "    .dataframe tbody tr th:only-of-type {\n",
       "        vertical-align: middle;\n",
       "    }\n",
       "\n",
       "    .dataframe tbody tr th {\n",
       "        vertical-align: top;\n",
       "    }\n",
       "\n",
       "    .dataframe thead th {\n",
       "        text-align: right;\n",
       "    }\n",
       "</style>\n",
       "<table border=\"1\" class=\"dataframe\">\n",
       "  <thead>\n",
       "    <tr style=\"text-align: right;\">\n",
       "      <th></th>\n",
       "      <th>CardTenure</th>\n",
       "      <th>DebtToIncomeRatio</th>\n",
       "      <th>EducationYears</th>\n",
       "      <th>EmploymentLength</th>\n",
       "      <th>HHIncome_2</th>\n",
       "      <th>HomeOwner</th>\n",
       "      <th>HouseholdSize</th>\n",
       "      <th>LoanDefault_num</th>\n",
       "    </tr>\n",
       "    <tr>\n",
       "      <th>Gender_num</th>\n",
       "      <th></th>\n",
       "      <th></th>\n",
       "      <th></th>\n",
       "      <th></th>\n",
       "      <th></th>\n",
       "      <th></th>\n",
       "      <th></th>\n",
       "      <th></th>\n",
       "    </tr>\n",
       "  </thead>\n",
       "  <tbody>\n",
       "    <tr>\n",
       "      <th>1</th>\n",
       "      <td>16.406806</td>\n",
       "      <td>10.004986</td>\n",
       "      <td>14.540958</td>\n",
       "      <td>9.614563</td>\n",
       "      <td>54144.835774</td>\n",
       "      <td>0.630392</td>\n",
       "      <td>2.248756</td>\n",
       "      <td>1.233478</td>\n",
       "    </tr>\n",
       "    <tr>\n",
       "      <th>2</th>\n",
       "      <td>16.910230</td>\n",
       "      <td>9.902224</td>\n",
       "      <td>14.545087</td>\n",
       "      <td>9.848767</td>\n",
       "      <td>55387.788112</td>\n",
       "      <td>0.625556</td>\n",
       "      <td>2.154877</td>\n",
       "      <td>1.234937</td>\n",
       "    </tr>\n",
       "    <tr>\n",
       "      <th>All</th>\n",
       "      <td>16.655800</td>\n",
       "      <td>9.954160</td>\n",
       "      <td>14.543000</td>\n",
       "      <td>9.730400</td>\n",
       "      <td>54759.600000</td>\n",
       "      <td>0.628000</td>\n",
       "      <td>2.202324</td>\n",
       "      <td>1.234200</td>\n",
       "    </tr>\n",
       "  </tbody>\n",
       "</table>\n",
       "</div>"
      ],
      "text/plain": [
       "            CardTenure  DebtToIncomeRatio  EducationYears  EmploymentLength  \\\n",
       "Gender_num                                                                    \n",
       "1            16.406806          10.004986       14.540958          9.614563   \n",
       "2            16.910230           9.902224       14.545087          9.848767   \n",
       "All          16.655800           9.954160       14.543000          9.730400   \n",
       "\n",
       "              HHIncome_2  HomeOwner  HouseholdSize  LoanDefault_num  \n",
       "Gender_num                                                           \n",
       "1           54144.835774   0.630392       2.248756         1.233478  \n",
       "2           55387.788112   0.625556       2.154877         1.234937  \n",
       "All         54759.600000   0.628000       2.202324         1.234200  "
      ]
     },
     "execution_count": 39,
     "metadata": {},
     "output_type": "execute_result"
    }
   ],
   "source": [
    "pd.pivot_table(df_num, index=['Gender_num'], aggfunc=np.average, margins=True)"
   ]
  },
  {
   "cell_type": "code",
   "execution_count": 40,
   "metadata": {},
   "outputs": [],
   "source": [
    "# df_size_owner = df_num[['HouseholdSize','HomeOwner']]\n",
    "# df_size_owner.set_index('HouseholdSize', inplace=True)\n",
    "# df_size_owner = append_one_hot(df_size_owner, 'HomeOwner')\n",
    "# df_size_owner"
   ]
  },
  {
   "cell_type": "code",
   "execution_count": 41,
   "metadata": {},
   "outputs": [
    {
     "data": {
      "text/plain": [
       "HouseholdSize\n",
       "1.0                  0.566437\n",
       "2.0                  0.636426\n",
       "2.202323717948718    0.625000\n",
       "3.0                  0.661232\n",
       "4.0                  0.723077\n",
       "5.0                  0.752613\n",
       "6.0                  0.639175\n",
       "7.0                  0.793103\n",
       "8.0                  1.000000\n",
       "9.0                  1.000000\n",
       "All                  0.628000\n",
       "Name: HomeOwner, dtype: float64"
      ]
     },
     "execution_count": 41,
     "metadata": {},
     "output_type": "execute_result"
    }
   ],
   "source": [
    "df_size_owner = pd.pivot_table(df_num, index=['HouseholdSize'], aggfunc=np.average, margins=True)\n",
    "df_size_owner['HomeOwner']"
   ]
  },
  {
   "cell_type": "code",
   "execution_count": 42,
   "metadata": {},
   "outputs": [
    {
     "data": {
      "text/html": [
       "<div>\n",
       "<style scoped>\n",
       "    .dataframe tbody tr th:only-of-type {\n",
       "        vertical-align: middle;\n",
       "    }\n",
       "\n",
       "    .dataframe tbody tr th {\n",
       "        vertical-align: top;\n",
       "    }\n",
       "\n",
       "    .dataframe thead th {\n",
       "        text-align: right;\n",
       "    }\n",
       "</style>\n",
       "<table border=\"1\" class=\"dataframe\">\n",
       "  <thead>\n",
       "    <tr style=\"text-align: right;\">\n",
       "      <th></th>\n",
       "      <th>EducationYears</th>\n",
       "      <th>EmploymentLength</th>\n",
       "      <th>HHIncome_2</th>\n",
       "      <th>DebtToIncomeRatio</th>\n",
       "      <th>LoanDefault_num</th>\n",
       "      <th>HouseholdSize</th>\n",
       "      <th>HomeOwner</th>\n",
       "      <th>CardTenure</th>\n",
       "      <th>Gender_num</th>\n",
       "    </tr>\n",
       "  </thead>\n",
       "  <tbody>\n",
       "    <tr>\n",
       "      <th>0</th>\n",
       "      <td>15</td>\n",
       "      <td>0</td>\n",
       "      <td>31000.0</td>\n",
       "      <td>11.1</td>\n",
       "      <td>2</td>\n",
       "      <td>3.0</td>\n",
       "      <td>0.0</td>\n",
       "      <td>2</td>\n",
       "      <td>1</td>\n",
       "    </tr>\n",
       "    <tr>\n",
       "      <th>1</th>\n",
       "      <td>17</td>\n",
       "      <td>0</td>\n",
       "      <td>15000.0</td>\n",
       "      <td>18.6</td>\n",
       "      <td>2</td>\n",
       "      <td>2.0</td>\n",
       "      <td>1.0</td>\n",
       "      <td>4</td>\n",
       "      <td>2</td>\n",
       "    </tr>\n",
       "    <tr>\n",
       "      <th>2</th>\n",
       "      <td>14</td>\n",
       "      <td>16</td>\n",
       "      <td>35000.0</td>\n",
       "      <td>9.9</td>\n",
       "      <td>1</td>\n",
       "      <td>3.0</td>\n",
       "      <td>1.0</td>\n",
       "      <td>35</td>\n",
       "      <td>1</td>\n",
       "    </tr>\n",
       "    <tr>\n",
       "      <th>3</th>\n",
       "      <td>16</td>\n",
       "      <td>0</td>\n",
       "      <td>20000.0</td>\n",
       "      <td>5.7</td>\n",
       "      <td>2</td>\n",
       "      <td>5.0</td>\n",
       "      <td>1.0</td>\n",
       "      <td>5</td>\n",
       "      <td>2</td>\n",
       "    </tr>\n",
       "    <tr>\n",
       "      <th>4</th>\n",
       "      <td>16</td>\n",
       "      <td>1</td>\n",
       "      <td>23000.0</td>\n",
       "      <td>1.7</td>\n",
       "      <td>1</td>\n",
       "      <td>4.0</td>\n",
       "      <td>0.0</td>\n",
       "      <td>8</td>\n",
       "      <td>2</td>\n",
       "    </tr>\n",
       "    <tr>\n",
       "      <th>...</th>\n",
       "      <td>...</td>\n",
       "      <td>...</td>\n",
       "      <td>...</td>\n",
       "      <td>...</td>\n",
       "      <td>...</td>\n",
       "      <td>...</td>\n",
       "      <td>...</td>\n",
       "      <td>...</td>\n",
       "      <td>...</td>\n",
       "    </tr>\n",
       "    <tr>\n",
       "      <th>4995</th>\n",
       "      <td>10</td>\n",
       "      <td>24</td>\n",
       "      <td>196000.0</td>\n",
       "      <td>8.0</td>\n",
       "      <td>1</td>\n",
       "      <td>1.0</td>\n",
       "      <td>1.0</td>\n",
       "      <td>35</td>\n",
       "      <td>2</td>\n",
       "    </tr>\n",
       "    <tr>\n",
       "      <th>4996</th>\n",
       "      <td>14</td>\n",
       "      <td>6</td>\n",
       "      <td>83000.0</td>\n",
       "      <td>15.0</td>\n",
       "      <td>2</td>\n",
       "      <td>1.0</td>\n",
       "      <td>1.0</td>\n",
       "      <td>15</td>\n",
       "      <td>2</td>\n",
       "    </tr>\n",
       "    <tr>\n",
       "      <th>4997</th>\n",
       "      <td>17</td>\n",
       "      <td>24</td>\n",
       "      <td>108000.0</td>\n",
       "      <td>10.8</td>\n",
       "      <td>1</td>\n",
       "      <td>1.0</td>\n",
       "      <td>1.0</td>\n",
       "      <td>40</td>\n",
       "      <td>2</td>\n",
       "    </tr>\n",
       "    <tr>\n",
       "      <th>4998</th>\n",
       "      <td>19</td>\n",
       "      <td>3</td>\n",
       "      <td>189000.0</td>\n",
       "      <td>10.8</td>\n",
       "      <td>2</td>\n",
       "      <td>4.0</td>\n",
       "      <td>1.0</td>\n",
       "      <td>22</td>\n",
       "      <td>2</td>\n",
       "    </tr>\n",
       "    <tr>\n",
       "      <th>4999</th>\n",
       "      <td>10</td>\n",
       "      <td>20</td>\n",
       "      <td>77000.0</td>\n",
       "      <td>6.2</td>\n",
       "      <td>1</td>\n",
       "      <td>2.0</td>\n",
       "      <td>1.0</td>\n",
       "      <td>16</td>\n",
       "      <td>1</td>\n",
       "    </tr>\n",
       "  </tbody>\n",
       "</table>\n",
       "<p>5000 rows × 9 columns</p>\n",
       "</div>"
      ],
      "text/plain": [
       "      EducationYears  EmploymentLength  HHIncome_2  DebtToIncomeRatio  \\\n",
       "0                 15                 0     31000.0               11.1   \n",
       "1                 17                 0     15000.0               18.6   \n",
       "2                 14                16     35000.0                9.9   \n",
       "3                 16                 0     20000.0                5.7   \n",
       "4                 16                 1     23000.0                1.7   \n",
       "...              ...               ...         ...                ...   \n",
       "4995              10                24    196000.0                8.0   \n",
       "4996              14                 6     83000.0               15.0   \n",
       "4997              17                24    108000.0               10.8   \n",
       "4998              19                 3    189000.0               10.8   \n",
       "4999              10                20     77000.0                6.2   \n",
       "\n",
       "      LoanDefault_num  HouseholdSize  HomeOwner  CardTenure  Gender_num  \n",
       "0                   2            3.0        0.0           2           1  \n",
       "1                   2            2.0        1.0           4           2  \n",
       "2                   1            3.0        1.0          35           1  \n",
       "3                   2            5.0        1.0           5           2  \n",
       "4                   1            4.0        0.0           8           2  \n",
       "...               ...            ...        ...         ...         ...  \n",
       "4995                1            1.0        1.0          35           2  \n",
       "4996                2            1.0        1.0          15           2  \n",
       "4997                1            1.0        1.0          40           2  \n",
       "4998                2            4.0        1.0          22           2  \n",
       "4999                1            2.0        1.0          16           1  \n",
       "\n",
       "[5000 rows x 9 columns]"
      ]
     },
     "execution_count": 42,
     "metadata": {},
     "output_type": "execute_result"
    }
   ],
   "source": [
    "df_num"
   ]
  },
  {
   "cell_type": "code",
   "execution_count": 45,
   "metadata": {},
   "outputs": [
    {
     "data": {
      "text/plain": [
       "<matplotlib.axes._subplots.AxesSubplot at 0x150a3dea6a0>"
      ]
     },
     "execution_count": 45,
     "metadata": {},
     "output_type": "execute_result"
    },
    {
     "data": {
      "image/png": "[encoded data removed]",
      "text/plain": [
       "<Figure size 432x288 with 1 Axes>"
      ]
     },
     "metadata": {
      "image/png": {
       "height": 250,
       "width": 414
      },
      "needs_background": "light"
     },
     "output_type": "display_data"
    }
   ],
   "source": [
    "df_num_plot = df_num.boxplot()\n",
    "df_num_plot"
   ]
  },
  {
   "cell_type": "code",
   "execution_count": null,
   "metadata": {},
   "outputs": [],
   "source": []
  },
  {
   "cell_type": "code",
   "execution_count": 48,
   "metadata": {},
   "outputs": [
    {
     "data": {
      "text/plain": [
       "<matplotlib.axes._subplots.AxesSubplot at 0x150a4675400>"
      ]
     },
     "execution_count": 48,
     "metadata": {},
     "output_type": "execute_result"
    },
    {
     "data": {
      "image/png": "[encoded data removed]",
      "text/plain": [
       "<Figure size 432x288 with 1 Axes>"
      ]
     },
     "metadata": {
      "image/png": {
       "height": 285,
       "width": 375
      },
      "needs_background": "light"
     },
     "output_type": "display_data"
    }
   ],
   "source": [
    "df_num.boxplot(by='JobCategory', column='HouseholdSize')"
   ]
  },
  {
   "cell_type": "code",
   "execution_count": 95,
   "metadata": {
    "scrolled": true
   },
   "outputs": [
    {
     "data": {
      "text/plain": [
       "Ttest_relResult(statistic=-87.8901356244254, pvalue=0.0)"
      ]
     },
     "execution_count": 95,
     "metadata": {},
     "output_type": "execute_result"
    }
   ],
   "source": [
    "scipy.stats.ttest_rel(df_num['HomeOwner'], df_num['Gender_num'])"
   ]
  },
  {
   "cell_type": "code",
   "execution_count": 52,
   "metadata": {},
   "outputs": [
    {
     "data": {
      "text/plain": [
       "Index(['CustomerID', 'Region', 'TownSize', 'Gender', 'Age', 'EducationYears',\n",
       "       'JobCategory', 'UnionMember', 'EmploymentLength', 'Retired', 'HHIncome',\n",
       "       'DebtToIncomeRatio', 'CreditDebt', 'OtherDebt', 'LoanDefault',\n",
       "       'MaritalStatus', 'HouseholdSize', 'NumberPets', 'NumberCats',\n",
       "       'NumberDogs', 'NumberBirds', 'HomeOwner', 'CarsOwned', 'CarOwnership',\n",
       "       'CarBrand', 'CarValue', 'CommuteTime', 'PoliticalPartyMem', 'Votes',\n",
       "       'CreditCard', 'CardTenure', 'CardItemsMonthly', 'CardSpendMonth',\n",
       "       'ActiveLifestyle', 'PhoneCoTenure', 'VoiceLastMonth', 'VoiceOverTenure',\n",
       "       'EquipmentRental', 'EquipmentLastMonth', 'EquipmentOverTenure',\n",
       "       'CallingCard', 'WirelessData', 'DataLastMonth', 'DataOverTenure',\n",
       "       'Multiline', 'VM', 'Pager', 'Internet', 'CallerID', 'CallWait',\n",
       "       'CallForward', 'ThreeWayCalling', 'EBilling', 'TVWatchingHours',\n",
       "       'OwnsPC', 'OwnsMobileDevice', 'OwnsGameSystem', 'OwnsFax',\n",
       "       'NewsSubscriber', 'EducationYears_group', 'educ_years_rec',\n",
       "       'HHIncome_2', 'HHIncome2', 'HHIncome_rec', 'LoanDefault_num',\n",
       "       'Gender_num', 'DebtToIncomeRatio_2', 'DebtToIncomeRatio_rec',\n",
       "       'DebtToIncomeRatio_rec3', 'DebtToIncomeRatio_rec2'],\n",
       "      dtype='object')"
      ]
     },
     "execution_count": 52,
     "metadata": {},
     "output_type": "execute_result"
    }
   ],
   "source": [
    "df.columns"
   ]
  },
  {
   "cell_type": "code",
   "execution_count": 56,
   "metadata": {},
   "outputs": [
    {
     "data": {
      "text/plain": [
       " $-         3656\n",
       " $34.30        9\n",
       " $27.95        7\n",
       " $32.20        7\n",
       " $22.95        7\n",
       "            ... \n",
       " $96.30        1\n",
       " $43.35        1\n",
       " $64.85        1\n",
       " $27.65        1\n",
       " $86.30        1\n",
       "Name: DataLastMonth, Length: 746, dtype: int64"
      ]
     },
     "execution_count": 56,
     "metadata": {},
     "output_type": "execute_result"
    }
   ],
   "source": [
    "df['DataLastMonth'].value_counts(dropna=False)"
   ]
  },
  {
   "cell_type": "code",
   "execution_count": null,
   "metadata": {},
   "outputs": [],
   "source": []
  }
 ],
 "metadata": {
  "kernelspec": {
   "display_name": "Python 3",
   "language": "python",
   "name": "python3"
  },
  "language_info": {
   "codemirror_mode": {
    "name": "ipython",
    "version": 3
   },
   "file_extension": ".py",
   "mimetype": "text/x-python",
   "name": "python",
   "nbconvert_exporter": "python",
   "pygments_lexer": "ipython3",
   "version": "3.7.3"
  },
  "varInspector": {
   "cols": {
    "lenName": 16,
    "lenType": 16,
    "lenVar": 40
   },
   "kernels_config": {
    "python": {
     "delete_cmd_postfix": "",
     "delete_cmd_prefix": "del ",
     "library": "var_list.py",
     "varRefreshCmd": "print(var_dic_list())"
    },
    "r": {
     "delete_cmd_postfix": ") ",
     "delete_cmd_prefix": "rm(",
     "library": "var_list.r",
     "varRefreshCmd": "cat(var_dic_list()) "
    }
   },
   "types_to_exclude": [
    "module",
    "function",
    "builtin_function_or_method",
    "instance",
    "_Feature"
   ],
   "window_display": false
  }
 },
 "nbformat": 4,
 "nbformat_minor": 2
}
